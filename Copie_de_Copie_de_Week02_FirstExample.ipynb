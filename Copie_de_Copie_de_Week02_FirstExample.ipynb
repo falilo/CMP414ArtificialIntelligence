{
  "nbformat": 4,
  "nbformat_minor": 0,
  "metadata": {
    "colab": {
      "name": "Copie de Copie de Week02_FirstExample",
      "provenance": [],
      "collapsed_sections": [],
      "include_colab_link": true
    },
    "kernelspec": {
      "name": "python3",
      "display_name": "Python 3"
    }
  },
  "cells": [
    {
      "cell_type": "markdown",
      "metadata": {
        "id": "view-in-github",
        "colab_type": "text"
      },
      "source": [
        "<a href=\"https://colab.research.google.com/github/falilo/CMP414ArtificialIntelligence/blob/main/Copie_de_Copie_de_Week02_FirstExample.ipynb\" target=\"_parent\"><img src=\"https://colab.research.google.com/assets/colab-badge.svg\" alt=\"Open In Colab\"/></a>"
      ]
    },
    {
      "cell_type": "markdown",
      "metadata": {
        "id": "ux7HKE_1cu88"
      },
      "source": [
        "# Week 2: First Machine Learning Example\n",
        "\n",
        "**Reading**: Chapter 1. The Machine Learning Landscape\n",
        "\n"
      ]
    },
    {
      "cell_type": "markdown",
      "metadata": {
        "id": "rddAEq-gefWH"
      },
      "source": [
        "## What is Machine Learning?\n",
        "\n",
        "Machine Learning is the science of programming computers so they can perform certain task with knowledge learned from data.\n",
        "\n",
        "**Example: spam filter**\n",
        "- Task: to flag spam for new emails\n",
        "- Data: existing emails with labels (either spam or non-spam)\n",
        "- Performance measure:\n",
        "    - percentage of correctly labeled emails\n",
        "    - percentage of a spam email being labeled correctly.\n",
        "    - percentage of a non-spam email being labeled correctly.\n",
        "    - Classification efficiency\n",
        "    - ..."
      ]
    },
    {
      "cell_type": "markdown",
      "metadata": {
        "id": "De99ptbCdN2Z"
      },
      "source": [
        "## Why Use Machine Learning?\n",
        "\n",
        "Traditional approach for spam filter:\n",
        "1. Choose features of spam emails manually: \"4U\", \"credit card\", \"free\", \"amazing\"\n",
        "2. Write an program to detect exactly the features you chose\n",
        "3. Test the program and modify the features until satisfactory\n",
        "\n",
        "Drawbacks of traditional approach: \n",
        "1. A large amount of features are needed - hard to maintain\n",
        "2. Spammers may change their writing to avoid explicit rules: change \"4U\" to \"For U\".\n",
        "3. For some complex problems, manually-engineered features are not good enough: hand-written digits\n",
        "\n",
        "Machine Learning models:\n",
        "1. Automatically learns which words and phrases are good predictors of spam. \n",
        "2. Since the program is not a stack of explicit rules, it is much shorter, easier to maintain, and most likely more accurate.\n",
        "3. With new training data, the Machine Learning model can update automatically to capture new indicators of spam emails.\n",
        "\n",
        "What Machine Learning is great for:\n",
        "1. Problems for which existing solutions require a lot of hand-tuning or long lists of rules: one Machine Learning algorithm can often simplify code and perform better.\n",
        "2. Complex problems for which there is no good solution at all using a traditional approach: the best Machine Learning techniques can find a solution.\n",
        "3. Fluctuating environments: a Machine Learning system can adapt to new data.\n",
        "4. Large amount of data: With Machine Learning, computers process big data faster than human.\n"
      ]
    },
    {
      "cell_type": "markdown",
      "metadata": {
        "id": "7vSCfx-OeLUQ"
      },
      "source": [
        "## First Example: Men's Height in the United States\n",
        "\n",
        "As an illustration of machine learning practice, let's consider the task of understanding the trend of American men's height in the 20th century. This project requires the following stages:\n",
        "- Data preparation\n",
        "- Data exploration\n",
        "- Model training\n",
        "- Model evaluation\n",
        "- Model application"
      ]
    },
    {
      "cell_type": "markdown",
      "metadata": {
        "id": "VMHJkGUFeySH"
      },
      "source": [
        "### 1. Download Data\n",
        "- Go to website:  https://ourworldindata.org/human-height\n",
        "- Find the interactive chart \"Increase of human height over two centuries\"\n",
        "- Click the \"Download\" tab, and download a CSV (comma-separated-values) file containing height data.\n",
        "\n",
        "After downloading, you can open it a text editor to view its content."
      ]
    },
    {
      "cell_type": "markdown",
      "metadata": {
        "id": "6zZpoKm1e3oC"
      },
      "source": [
        "### 2. Upload the CSV file to Google Colab\n",
        "- Click \"Files\" icon on the left column.\n",
        "- Click \"Upload to session storage\"\n",
        "- Upload the CSV file.\n",
        "\n",
        "Afterwards, you should see the file listed in the files tab.\n"
      ]
    },
    {
      "cell_type": "markdown",
      "metadata": {
        "id": "JqD2woXgfrPM"
      },
      "source": [
        "### 3. Load Data into Python\n",
        "- Import numpy, pandas, and matplotlib.\n",
        "- Load the data as a DataFrame using the following statement:\n",
        "`raw_data = pd.read_csv(filename, sep=',')`\n",
        "\n",
        "Now the data in the .csv file are loaded to the DataFrame `raw_data`. You can display its first 5 rows using `raw_data.head()`."
      ]
    },
    {
      "cell_type": "code",
      "metadata": {
        "id": "7ExZnG8QgAAG"
      },
      "source": [
        "import numpy as np  # scientific computation\n",
        "import pandas as pd  # data handling\n",
        "import matplotlib.pyplot as plt  # plotting\n",
        "# The following \"magic command\" allows figures to be displayed automatically in notebook\n",
        "%matplotlib inline  "
      ],
      "execution_count": 8,
      "outputs": []
    },
    {
      "cell_type": "code",
      "metadata": {
        "id": "cW4X7CP1gH35"
      },
      "source": [
        "raw_data = pd.read_csv(\"average-height-of-men-for-selected-countries (1).csv\", sep=',')"
      ],
      "execution_count": 9,
      "outputs": []
    },
    {
      "cell_type": "code",
      "metadata": {
        "id": "HKBx-e1dgdbd",
        "colab": {
          "base_uri": "https://localhost:8080/",
          "height": 204
        },
        "outputId": "6270e42d-9576-4e83-80d7-04021a53e252"
      },
      "source": [
        "raw_data.head()"
      ],
      "execution_count": 10,
      "outputs": [
        {
          "output_type": "execute_result",
          "data": {
            "text/html": [
              "<div>\n",
              "<style scoped>\n",
              "    .dataframe tbody tr th:only-of-type {\n",
              "        vertical-align: middle;\n",
              "    }\n",
              "\n",
              "    .dataframe tbody tr th {\n",
              "        vertical-align: top;\n",
              "    }\n",
              "\n",
              "    .dataframe thead th {\n",
              "        text-align: right;\n",
              "    }\n",
              "</style>\n",
              "<table border=\"1\" class=\"dataframe\">\n",
              "  <thead>\n",
              "    <tr style=\"text-align: right;\">\n",
              "      <th></th>\n",
              "      <th>Entity</th>\n",
              "      <th>Code</th>\n",
              "      <th>Year</th>\n",
              "      <th>Human Height (University of Tuebingen (2015))</th>\n",
              "    </tr>\n",
              "  </thead>\n",
              "  <tbody>\n",
              "    <tr>\n",
              "      <th>0</th>\n",
              "      <td>Afghanistan</td>\n",
              "      <td>AFG</td>\n",
              "      <td>1870</td>\n",
              "      <td>168.4</td>\n",
              "    </tr>\n",
              "    <tr>\n",
              "      <th>1</th>\n",
              "      <td>Afghanistan</td>\n",
              "      <td>AFG</td>\n",
              "      <td>1880</td>\n",
              "      <td>165.7</td>\n",
              "    </tr>\n",
              "    <tr>\n",
              "      <th>2</th>\n",
              "      <td>Afghanistan</td>\n",
              "      <td>AFG</td>\n",
              "      <td>1930</td>\n",
              "      <td>166.8</td>\n",
              "    </tr>\n",
              "    <tr>\n",
              "      <th>3</th>\n",
              "      <td>Albania</td>\n",
              "      <td>ALB</td>\n",
              "      <td>1880</td>\n",
              "      <td>170.1</td>\n",
              "    </tr>\n",
              "    <tr>\n",
              "      <th>4</th>\n",
              "      <td>Albania</td>\n",
              "      <td>ALB</td>\n",
              "      <td>1890</td>\n",
              "      <td>169.8</td>\n",
              "    </tr>\n",
              "  </tbody>\n",
              "</table>\n",
              "</div>"
            ],
            "text/plain": [
              "        Entity Code  Year  Human Height (University of Tuebingen (2015))\n",
              "0  Afghanistan  AFG  1870                                          168.4\n",
              "1  Afghanistan  AFG  1880                                          165.7\n",
              "2  Afghanistan  AFG  1930                                          166.8\n",
              "3      Albania  ALB  1880                                          170.1\n",
              "4      Albania  ALB  1890                                          169.8"
            ]
          },
          "metadata": {
            "tags": []
          },
          "execution_count": 10
        }
      ]
    },
    {
      "cell_type": "code",
      "metadata": {
        "id": "YWDZI-4eCTLG",
        "colab": {
          "base_uri": "https://localhost:8080/"
        },
        "outputId": "acabb8a5-80dd-4eeb-b53b-a06d1a3fddb5"
      },
      "source": [
        "raw_data.shape"
      ],
      "execution_count": 11,
      "outputs": [
        {
          "output_type": "execute_result",
          "data": {
            "text/plain": [
              "(1250, 4)"
            ]
          },
          "metadata": {
            "tags": []
          },
          "execution_count": 11
        }
      ]
    },
    {
      "cell_type": "code",
      "metadata": {
        "id": "RxehnEYlBEDy",
        "colab": {
          "base_uri": "https://localhost:8080/"
        },
        "outputId": "b98548f5-d9a5-4537-8c61-a92c045c9f26"
      },
      "source": [
        "raw_data.columns"
      ],
      "execution_count": 12,
      "outputs": [
        {
          "output_type": "execute_result",
          "data": {
            "text/plain": [
              "Index(['Entity', 'Code', 'Year',\n",
              "       'Human Height (University of Tuebingen (2015))'],\n",
              "      dtype='object')"
            ]
          },
          "metadata": {
            "tags": []
          },
          "execution_count": 12
        }
      ]
    },
    {
      "cell_type": "markdown",
      "metadata": {
        "id": "ZZzKoSzrgeIO"
      },
      "source": [
        "### DataFrame\n",
        "Data frame is a way to store data in rectangular grids that can easily be overviewed. Each row of these grids corresponds to measurements or values of an instance, while each column is a vector containing data for a specific variable. A data frame's row may contain different types of values: numeric, character, logical, etc.\n",
        "\n",
        "Data frames in Python come with the Pandas libarary, and they are defined as a two-dimensional labeled data structures with columns of potentially different types."
      ]
    },
    {
      "cell_type": "markdown",
      "metadata": {
        "id": "XNm4XTV7gmB6"
      },
      "source": [
        "### 4. Extract US Data\n",
        "- Create a filter on the rows with condition \"Entity = United States\"\n",
        "- Use the filter to select rows related to US.\n",
        "- Create another filter with condition \"Year >= 1900\", and use it to filter the data.\n",
        "- Display the resulting data frame."
      ]
    },
    {
      "cell_type": "code",
      "metadata": {
        "colab": {
          "base_uri": "https://localhost:8080/",
          "height": 266
        },
        "id": "l9ywLIXdByXt",
        "outputId": "dc1227cd-b166-43d3-87fc-cf5b0d90c275"
      },
      "source": [
        "filter_Togo = (raw_data['Entity'] == \"Togo\")\n",
        "data_Togo = raw_data[filter_Togo]\n",
        "data_Togo"
      ],
      "execution_count": 15,
      "outputs": [
        {
          "output_type": "execute_result",
          "data": {
            "text/html": [
              "<div>\n",
              "<style scoped>\n",
              "    .dataframe tbody tr th:only-of-type {\n",
              "        vertical-align: middle;\n",
              "    }\n",
              "\n",
              "    .dataframe tbody tr th {\n",
              "        vertical-align: top;\n",
              "    }\n",
              "\n",
              "    .dataframe thead th {\n",
              "        text-align: right;\n",
              "    }\n",
              "</style>\n",
              "<table border=\"1\" class=\"dataframe\">\n",
              "  <thead>\n",
              "    <tr style=\"text-align: right;\">\n",
              "      <th></th>\n",
              "      <th>Entity</th>\n",
              "      <th>Code</th>\n",
              "      <th>Year</th>\n",
              "      <th>Human Height (University of Tuebingen (2015))</th>\n",
              "    </tr>\n",
              "  </thead>\n",
              "  <tbody>\n",
              "    <tr>\n",
              "      <th>1133</th>\n",
              "      <td>Togo</td>\n",
              "      <td>TGO</td>\n",
              "      <td>1860</td>\n",
              "      <td>165.3</td>\n",
              "    </tr>\n",
              "    <tr>\n",
              "      <th>1134</th>\n",
              "      <td>Togo</td>\n",
              "      <td>TGO</td>\n",
              "      <td>1900</td>\n",
              "      <td>167.0</td>\n",
              "    </tr>\n",
              "    <tr>\n",
              "      <th>1135</th>\n",
              "      <td>Togo</td>\n",
              "      <td>TGO</td>\n",
              "      <td>1920</td>\n",
              "      <td>168.4</td>\n",
              "    </tr>\n",
              "    <tr>\n",
              "      <th>1136</th>\n",
              "      <td>Togo</td>\n",
              "      <td>TGO</td>\n",
              "      <td>1950</td>\n",
              "      <td>170.8</td>\n",
              "    </tr>\n",
              "    <tr>\n",
              "      <th>1137</th>\n",
              "      <td>Togo</td>\n",
              "      <td>TGO</td>\n",
              "      <td>1960</td>\n",
              "      <td>170.6</td>\n",
              "    </tr>\n",
              "    <tr>\n",
              "      <th>1138</th>\n",
              "      <td>Togo</td>\n",
              "      <td>TGO</td>\n",
              "      <td>1970</td>\n",
              "      <td>170.5</td>\n",
              "    </tr>\n",
              "    <tr>\n",
              "      <th>1139</th>\n",
              "      <td>Togo</td>\n",
              "      <td>TGO</td>\n",
              "      <td>1980</td>\n",
              "      <td>167.7</td>\n",
              "    </tr>\n",
              "  </tbody>\n",
              "</table>\n",
              "</div>"
            ],
            "text/plain": [
              "     Entity Code  Year  Human Height (University of Tuebingen (2015))\n",
              "1133   Togo  TGO  1860                                          165.3\n",
              "1134   Togo  TGO  1900                                          167.0\n",
              "1135   Togo  TGO  1920                                          168.4\n",
              "1136   Togo  TGO  1950                                          170.8\n",
              "1137   Togo  TGO  1960                                          170.6\n",
              "1138   Togo  TGO  1970                                          170.5\n",
              "1139   Togo  TGO  1980                                          167.7"
            ]
          },
          "metadata": {
            "tags": []
          },
          "execution_count": 15
        }
      ]
    },
    {
      "cell_type": "code",
      "metadata": {
        "id": "OLgzJpv4g3Vs",
        "colab": {
          "base_uri": "https://localhost:8080/"
        },
        "outputId": "e7b9b745-f4a2-4f68-aa0d-21e85fda6f8a"
      },
      "source": [
        "filter1 = (raw_data['Entity'] == \"United States\")\n",
        "print(filter1)"
      ],
      "execution_count": 16,
      "outputs": [
        {
          "output_type": "stream",
          "text": [
            "0       False\n",
            "1       False\n",
            "2       False\n",
            "3       False\n",
            "4       False\n",
            "        ...  \n",
            "1245    False\n",
            "1246    False\n",
            "1247    False\n",
            "1248    False\n",
            "1249    False\n",
            "Name: Entity, Length: 1250, dtype: bool\n"
          ],
          "name": "stdout"
        }
      ]
    },
    {
      "cell_type": "code",
      "metadata": {
        "id": "9MBIpZxng5Fn",
        "colab": {
          "base_uri": "https://localhost:8080/",
          "height": 576
        },
        "outputId": "a8d2a8e1-df2a-47d0-885c-c9748b50afa9"
      },
      "source": [
        "filter1 = (raw_data['Entity'] == \"United States\")\n",
        "data = raw_data[filter1]\n",
        "data"
      ],
      "execution_count": 17,
      "outputs": [
        {
          "output_type": "execute_result",
          "data": {
            "text/html": [
              "<div>\n",
              "<style scoped>\n",
              "    .dataframe tbody tr th:only-of-type {\n",
              "        vertical-align: middle;\n",
              "    }\n",
              "\n",
              "    .dataframe tbody tr th {\n",
              "        vertical-align: top;\n",
              "    }\n",
              "\n",
              "    .dataframe thead th {\n",
              "        text-align: right;\n",
              "    }\n",
              "</style>\n",
              "<table border=\"1\" class=\"dataframe\">\n",
              "  <thead>\n",
              "    <tr style=\"text-align: right;\">\n",
              "      <th></th>\n",
              "      <th>Entity</th>\n",
              "      <th>Code</th>\n",
              "      <th>Year</th>\n",
              "      <th>Human Height (University of Tuebingen (2015))</th>\n",
              "    </tr>\n",
              "  </thead>\n",
              "  <tbody>\n",
              "    <tr>\n",
              "      <th>1194</th>\n",
              "      <td>United States</td>\n",
              "      <td>USA</td>\n",
              "      <td>1820</td>\n",
              "      <td>172.2</td>\n",
              "    </tr>\n",
              "    <tr>\n",
              "      <th>1195</th>\n",
              "      <td>United States</td>\n",
              "      <td>USA</td>\n",
              "      <td>1830</td>\n",
              "      <td>173.5</td>\n",
              "    </tr>\n",
              "    <tr>\n",
              "      <th>1196</th>\n",
              "      <td>United States</td>\n",
              "      <td>USA</td>\n",
              "      <td>1840</td>\n",
              "      <td>172.2</td>\n",
              "    </tr>\n",
              "    <tr>\n",
              "      <th>1197</th>\n",
              "      <td>United States</td>\n",
              "      <td>USA</td>\n",
              "      <td>1850</td>\n",
              "      <td>171.1</td>\n",
              "    </tr>\n",
              "    <tr>\n",
              "      <th>1198</th>\n",
              "      <td>United States</td>\n",
              "      <td>USA</td>\n",
              "      <td>1860</td>\n",
              "      <td>170.6</td>\n",
              "    </tr>\n",
              "    <tr>\n",
              "      <th>1199</th>\n",
              "      <td>United States</td>\n",
              "      <td>USA</td>\n",
              "      <td>1870</td>\n",
              "      <td>171.1</td>\n",
              "    </tr>\n",
              "    <tr>\n",
              "      <th>1200</th>\n",
              "      <td>United States</td>\n",
              "      <td>USA</td>\n",
              "      <td>1880</td>\n",
              "      <td>169.5</td>\n",
              "    </tr>\n",
              "    <tr>\n",
              "      <th>1201</th>\n",
              "      <td>United States</td>\n",
              "      <td>USA</td>\n",
              "      <td>1890</td>\n",
              "      <td>169.1</td>\n",
              "    </tr>\n",
              "    <tr>\n",
              "      <th>1202</th>\n",
              "      <td>United States</td>\n",
              "      <td>USA</td>\n",
              "      <td>1900</td>\n",
              "      <td>170.0</td>\n",
              "    </tr>\n",
              "    <tr>\n",
              "      <th>1203</th>\n",
              "      <td>United States</td>\n",
              "      <td>USA</td>\n",
              "      <td>1910</td>\n",
              "      <td>172.1</td>\n",
              "    </tr>\n",
              "    <tr>\n",
              "      <th>1204</th>\n",
              "      <td>United States</td>\n",
              "      <td>USA</td>\n",
              "      <td>1920</td>\n",
              "      <td>173.1</td>\n",
              "    </tr>\n",
              "    <tr>\n",
              "      <th>1205</th>\n",
              "      <td>United States</td>\n",
              "      <td>USA</td>\n",
              "      <td>1930</td>\n",
              "      <td>173.4</td>\n",
              "    </tr>\n",
              "    <tr>\n",
              "      <th>1206</th>\n",
              "      <td>United States</td>\n",
              "      <td>USA</td>\n",
              "      <td>1940</td>\n",
              "      <td>176.1</td>\n",
              "    </tr>\n",
              "    <tr>\n",
              "      <th>1207</th>\n",
              "      <td>United States</td>\n",
              "      <td>USA</td>\n",
              "      <td>1950</td>\n",
              "      <td>177.1</td>\n",
              "    </tr>\n",
              "    <tr>\n",
              "      <th>1208</th>\n",
              "      <td>United States</td>\n",
              "      <td>USA</td>\n",
              "      <td>1960</td>\n",
              "      <td>177.3</td>\n",
              "    </tr>\n",
              "    <tr>\n",
              "      <th>1209</th>\n",
              "      <td>United States</td>\n",
              "      <td>USA</td>\n",
              "      <td>1970</td>\n",
              "      <td>178.3</td>\n",
              "    </tr>\n",
              "    <tr>\n",
              "      <th>1210</th>\n",
              "      <td>United States</td>\n",
              "      <td>USA</td>\n",
              "      <td>1980</td>\n",
              "      <td>179.0</td>\n",
              "    </tr>\n",
              "  </tbody>\n",
              "</table>\n",
              "</div>"
            ],
            "text/plain": [
              "             Entity Code  Year  Human Height (University of Tuebingen (2015))\n",
              "1194  United States  USA  1820                                          172.2\n",
              "1195  United States  USA  1830                                          173.5\n",
              "1196  United States  USA  1840                                          172.2\n",
              "1197  United States  USA  1850                                          171.1\n",
              "1198  United States  USA  1860                                          170.6\n",
              "1199  United States  USA  1870                                          171.1\n",
              "1200  United States  USA  1880                                          169.5\n",
              "1201  United States  USA  1890                                          169.1\n",
              "1202  United States  USA  1900                                          170.0\n",
              "1203  United States  USA  1910                                          172.1\n",
              "1204  United States  USA  1920                                          173.1\n",
              "1205  United States  USA  1930                                          173.4\n",
              "1206  United States  USA  1940                                          176.1\n",
              "1207  United States  USA  1950                                          177.1\n",
              "1208  United States  USA  1960                                          177.3\n",
              "1209  United States  USA  1970                                          178.3\n",
              "1210  United States  USA  1980                                          179.0"
            ]
          },
          "metadata": {
            "tags": []
          },
          "execution_count": 17
        }
      ]
    },
    {
      "cell_type": "code",
      "metadata": {
        "id": "da8hGRR2g7UB",
        "colab": {
          "base_uri": "https://localhost:8080/",
          "height": 204
        },
        "outputId": "8fbeabfb-0383-4dec-f81f-7831867418c8"
      },
      "source": [
        "# You can combine the two steps in one statement\n",
        "data = raw_data[raw_data['Entity'] == \"United States\"]\n",
        "data.head()"
      ],
      "execution_count": 18,
      "outputs": [
        {
          "output_type": "execute_result",
          "data": {
            "text/html": [
              "<div>\n",
              "<style scoped>\n",
              "    .dataframe tbody tr th:only-of-type {\n",
              "        vertical-align: middle;\n",
              "    }\n",
              "\n",
              "    .dataframe tbody tr th {\n",
              "        vertical-align: top;\n",
              "    }\n",
              "\n",
              "    .dataframe thead th {\n",
              "        text-align: right;\n",
              "    }\n",
              "</style>\n",
              "<table border=\"1\" class=\"dataframe\">\n",
              "  <thead>\n",
              "    <tr style=\"text-align: right;\">\n",
              "      <th></th>\n",
              "      <th>Entity</th>\n",
              "      <th>Code</th>\n",
              "      <th>Year</th>\n",
              "      <th>Human Height (University of Tuebingen (2015))</th>\n",
              "    </tr>\n",
              "  </thead>\n",
              "  <tbody>\n",
              "    <tr>\n",
              "      <th>1194</th>\n",
              "      <td>United States</td>\n",
              "      <td>USA</td>\n",
              "      <td>1820</td>\n",
              "      <td>172.2</td>\n",
              "    </tr>\n",
              "    <tr>\n",
              "      <th>1195</th>\n",
              "      <td>United States</td>\n",
              "      <td>USA</td>\n",
              "      <td>1830</td>\n",
              "      <td>173.5</td>\n",
              "    </tr>\n",
              "    <tr>\n",
              "      <th>1196</th>\n",
              "      <td>United States</td>\n",
              "      <td>USA</td>\n",
              "      <td>1840</td>\n",
              "      <td>172.2</td>\n",
              "    </tr>\n",
              "    <tr>\n",
              "      <th>1197</th>\n",
              "      <td>United States</td>\n",
              "      <td>USA</td>\n",
              "      <td>1850</td>\n",
              "      <td>171.1</td>\n",
              "    </tr>\n",
              "    <tr>\n",
              "      <th>1198</th>\n",
              "      <td>United States</td>\n",
              "      <td>USA</td>\n",
              "      <td>1860</td>\n",
              "      <td>170.6</td>\n",
              "    </tr>\n",
              "  </tbody>\n",
              "</table>\n",
              "</div>"
            ],
            "text/plain": [
              "             Entity Code  Year  Human Height (University of Tuebingen (2015))\n",
              "1194  United States  USA  1820                                          172.2\n",
              "1195  United States  USA  1830                                          173.5\n",
              "1196  United States  USA  1840                                          172.2\n",
              "1197  United States  USA  1850                                          171.1\n",
              "1198  United States  USA  1860                                          170.6"
            ]
          },
          "metadata": {
            "tags": []
          },
          "execution_count": 18
        }
      ]
    },
    {
      "cell_type": "code",
      "metadata": {
        "id": "-W8UsV2an6H0",
        "colab": {
          "base_uri": "https://localhost:8080/",
          "height": 328
        },
        "outputId": "268b0732-620d-4079-f5d7-fff3444154c3"
      },
      "source": [
        "# Exercise:\n",
        "# Extract USA data since 1900.\n",
        "filter2 = (data[\"Year\"] >= 1900)\n",
        "data = data[filter2]\n",
        "data\n"
      ],
      "execution_count": 19,
      "outputs": [
        {
          "output_type": "execute_result",
          "data": {
            "text/html": [
              "<div>\n",
              "<style scoped>\n",
              "    .dataframe tbody tr th:only-of-type {\n",
              "        vertical-align: middle;\n",
              "    }\n",
              "\n",
              "    .dataframe tbody tr th {\n",
              "        vertical-align: top;\n",
              "    }\n",
              "\n",
              "    .dataframe thead th {\n",
              "        text-align: right;\n",
              "    }\n",
              "</style>\n",
              "<table border=\"1\" class=\"dataframe\">\n",
              "  <thead>\n",
              "    <tr style=\"text-align: right;\">\n",
              "      <th></th>\n",
              "      <th>Entity</th>\n",
              "      <th>Code</th>\n",
              "      <th>Year</th>\n",
              "      <th>Human Height (University of Tuebingen (2015))</th>\n",
              "    </tr>\n",
              "  </thead>\n",
              "  <tbody>\n",
              "    <tr>\n",
              "      <th>1202</th>\n",
              "      <td>United States</td>\n",
              "      <td>USA</td>\n",
              "      <td>1900</td>\n",
              "      <td>170.0</td>\n",
              "    </tr>\n",
              "    <tr>\n",
              "      <th>1203</th>\n",
              "      <td>United States</td>\n",
              "      <td>USA</td>\n",
              "      <td>1910</td>\n",
              "      <td>172.1</td>\n",
              "    </tr>\n",
              "    <tr>\n",
              "      <th>1204</th>\n",
              "      <td>United States</td>\n",
              "      <td>USA</td>\n",
              "      <td>1920</td>\n",
              "      <td>173.1</td>\n",
              "    </tr>\n",
              "    <tr>\n",
              "      <th>1205</th>\n",
              "      <td>United States</td>\n",
              "      <td>USA</td>\n",
              "      <td>1930</td>\n",
              "      <td>173.4</td>\n",
              "    </tr>\n",
              "    <tr>\n",
              "      <th>1206</th>\n",
              "      <td>United States</td>\n",
              "      <td>USA</td>\n",
              "      <td>1940</td>\n",
              "      <td>176.1</td>\n",
              "    </tr>\n",
              "    <tr>\n",
              "      <th>1207</th>\n",
              "      <td>United States</td>\n",
              "      <td>USA</td>\n",
              "      <td>1950</td>\n",
              "      <td>177.1</td>\n",
              "    </tr>\n",
              "    <tr>\n",
              "      <th>1208</th>\n",
              "      <td>United States</td>\n",
              "      <td>USA</td>\n",
              "      <td>1960</td>\n",
              "      <td>177.3</td>\n",
              "    </tr>\n",
              "    <tr>\n",
              "      <th>1209</th>\n",
              "      <td>United States</td>\n",
              "      <td>USA</td>\n",
              "      <td>1970</td>\n",
              "      <td>178.3</td>\n",
              "    </tr>\n",
              "    <tr>\n",
              "      <th>1210</th>\n",
              "      <td>United States</td>\n",
              "      <td>USA</td>\n",
              "      <td>1980</td>\n",
              "      <td>179.0</td>\n",
              "    </tr>\n",
              "  </tbody>\n",
              "</table>\n",
              "</div>"
            ],
            "text/plain": [
              "             Entity Code  Year  Human Height (University of Tuebingen (2015))\n",
              "1202  United States  USA  1900                                          170.0\n",
              "1203  United States  USA  1910                                          172.1\n",
              "1204  United States  USA  1920                                          173.1\n",
              "1205  United States  USA  1930                                          173.4\n",
              "1206  United States  USA  1940                                          176.1\n",
              "1207  United States  USA  1950                                          177.1\n",
              "1208  United States  USA  1960                                          177.3\n",
              "1209  United States  USA  1970                                          178.3\n",
              "1210  United States  USA  1980                                          179.0"
            ]
          },
          "metadata": {
            "tags": []
          },
          "execution_count": 19
        }
      ]
    },
    {
      "cell_type": "code",
      "metadata": {
        "colab": {
          "base_uri": "https://localhost:8080/",
          "height": 328
        },
        "id": "bFJ1JVCx3d4e",
        "outputId": "ba6684b5-d2d3-484e-c947-58f5cf6bae21"
      },
      "source": [
        "# Use bitwise operators and (&), or (|), not (~) to combine two conditions\n",
        "filter3 = (raw_data['Entity'] == \"United States\") & (raw_data[\"Year\"] >= 1900)\n",
        "#print(filter3)\n",
        "data = raw_data[filter3]\n",
        "data"
      ],
      "execution_count": 25,
      "outputs": [
        {
          "output_type": "execute_result",
          "data": {
            "text/html": [
              "<div>\n",
              "<style scoped>\n",
              "    .dataframe tbody tr th:only-of-type {\n",
              "        vertical-align: middle;\n",
              "    }\n",
              "\n",
              "    .dataframe tbody tr th {\n",
              "        vertical-align: top;\n",
              "    }\n",
              "\n",
              "    .dataframe thead th {\n",
              "        text-align: right;\n",
              "    }\n",
              "</style>\n",
              "<table border=\"1\" class=\"dataframe\">\n",
              "  <thead>\n",
              "    <tr style=\"text-align: right;\">\n",
              "      <th></th>\n",
              "      <th>Entity</th>\n",
              "      <th>Code</th>\n",
              "      <th>Year</th>\n",
              "      <th>Human Height (University of Tuebingen (2015))</th>\n",
              "    </tr>\n",
              "  </thead>\n",
              "  <tbody>\n",
              "    <tr>\n",
              "      <th>1202</th>\n",
              "      <td>United States</td>\n",
              "      <td>USA</td>\n",
              "      <td>1900</td>\n",
              "      <td>170.0</td>\n",
              "    </tr>\n",
              "    <tr>\n",
              "      <th>1203</th>\n",
              "      <td>United States</td>\n",
              "      <td>USA</td>\n",
              "      <td>1910</td>\n",
              "      <td>172.1</td>\n",
              "    </tr>\n",
              "    <tr>\n",
              "      <th>1204</th>\n",
              "      <td>United States</td>\n",
              "      <td>USA</td>\n",
              "      <td>1920</td>\n",
              "      <td>173.1</td>\n",
              "    </tr>\n",
              "    <tr>\n",
              "      <th>1205</th>\n",
              "      <td>United States</td>\n",
              "      <td>USA</td>\n",
              "      <td>1930</td>\n",
              "      <td>173.4</td>\n",
              "    </tr>\n",
              "    <tr>\n",
              "      <th>1206</th>\n",
              "      <td>United States</td>\n",
              "      <td>USA</td>\n",
              "      <td>1940</td>\n",
              "      <td>176.1</td>\n",
              "    </tr>\n",
              "    <tr>\n",
              "      <th>1207</th>\n",
              "      <td>United States</td>\n",
              "      <td>USA</td>\n",
              "      <td>1950</td>\n",
              "      <td>177.1</td>\n",
              "    </tr>\n",
              "    <tr>\n",
              "      <th>1208</th>\n",
              "      <td>United States</td>\n",
              "      <td>USA</td>\n",
              "      <td>1960</td>\n",
              "      <td>177.3</td>\n",
              "    </tr>\n",
              "    <tr>\n",
              "      <th>1209</th>\n",
              "      <td>United States</td>\n",
              "      <td>USA</td>\n",
              "      <td>1970</td>\n",
              "      <td>178.3</td>\n",
              "    </tr>\n",
              "    <tr>\n",
              "      <th>1210</th>\n",
              "      <td>United States</td>\n",
              "      <td>USA</td>\n",
              "      <td>1980</td>\n",
              "      <td>179.0</td>\n",
              "    </tr>\n",
              "  </tbody>\n",
              "</table>\n",
              "</div>"
            ],
            "text/plain": [
              "             Entity Code  Year  Human Height (University of Tuebingen (2015))\n",
              "1202  United States  USA  1900                                          170.0\n",
              "1203  United States  USA  1910                                          172.1\n",
              "1204  United States  USA  1920                                          173.1\n",
              "1205  United States  USA  1930                                          173.4\n",
              "1206  United States  USA  1940                                          176.1\n",
              "1207  United States  USA  1950                                          177.1\n",
              "1208  United States  USA  1960                                          177.3\n",
              "1209  United States  USA  1970                                          178.3\n",
              "1210  United States  USA  1980                                          179.0"
            ]
          },
          "metadata": {
            "tags": []
          },
          "execution_count": 25
        }
      ]
    },
    {
      "cell_type": "markdown",
      "metadata": {
        "id": "1hany2AAnXGf"
      },
      "source": [
        "### 5. Clean the Dataset\n",
        "1. Reset the index.\n",
        "2. Remove Entity and Code column.\n",
        "3. Give a proper name to height column"
      ]
    },
    {
      "cell_type": "code",
      "metadata": {
        "id": "m62F50fQncBr",
        "colab": {
          "base_uri": "https://localhost:8080/",
          "height": 235
        },
        "outputId": "d40d021a-209e-422b-d554-eb4bb790322a"
      },
      "source": [
        "data = data.set_index([\"Year\"])\n",
        "data.head()"
      ],
      "execution_count": 26,
      "outputs": [
        {
          "output_type": "execute_result",
          "data": {
            "text/html": [
              "<div>\n",
              "<style scoped>\n",
              "    .dataframe tbody tr th:only-of-type {\n",
              "        vertical-align: middle;\n",
              "    }\n",
              "\n",
              "    .dataframe tbody tr th {\n",
              "        vertical-align: top;\n",
              "    }\n",
              "\n",
              "    .dataframe thead th {\n",
              "        text-align: right;\n",
              "    }\n",
              "</style>\n",
              "<table border=\"1\" class=\"dataframe\">\n",
              "  <thead>\n",
              "    <tr style=\"text-align: right;\">\n",
              "      <th></th>\n",
              "      <th>Entity</th>\n",
              "      <th>Code</th>\n",
              "      <th>Human Height (University of Tuebingen (2015))</th>\n",
              "    </tr>\n",
              "    <tr>\n",
              "      <th>Year</th>\n",
              "      <th></th>\n",
              "      <th></th>\n",
              "      <th></th>\n",
              "    </tr>\n",
              "  </thead>\n",
              "  <tbody>\n",
              "    <tr>\n",
              "      <th>1900</th>\n",
              "      <td>United States</td>\n",
              "      <td>USA</td>\n",
              "      <td>170.0</td>\n",
              "    </tr>\n",
              "    <tr>\n",
              "      <th>1910</th>\n",
              "      <td>United States</td>\n",
              "      <td>USA</td>\n",
              "      <td>172.1</td>\n",
              "    </tr>\n",
              "    <tr>\n",
              "      <th>1920</th>\n",
              "      <td>United States</td>\n",
              "      <td>USA</td>\n",
              "      <td>173.1</td>\n",
              "    </tr>\n",
              "    <tr>\n",
              "      <th>1930</th>\n",
              "      <td>United States</td>\n",
              "      <td>USA</td>\n",
              "      <td>173.4</td>\n",
              "    </tr>\n",
              "    <tr>\n",
              "      <th>1940</th>\n",
              "      <td>United States</td>\n",
              "      <td>USA</td>\n",
              "      <td>176.1</td>\n",
              "    </tr>\n",
              "  </tbody>\n",
              "</table>\n",
              "</div>"
            ],
            "text/plain": [
              "             Entity Code  Human Height (University of Tuebingen (2015))\n",
              "Year                                                                   \n",
              "1900  United States  USA                                          170.0\n",
              "1910  United States  USA                                          172.1\n",
              "1920  United States  USA                                          173.1\n",
              "1930  United States  USA                                          173.4\n",
              "1940  United States  USA                                          176.1"
            ]
          },
          "metadata": {
            "tags": []
          },
          "execution_count": 26
        }
      ]
    },
    {
      "cell_type": "code",
      "metadata": {
        "id": "Rzq1Xbebndoy",
        "colab": {
          "base_uri": "https://localhost:8080/",
          "height": 235
        },
        "outputId": "ce23d631-0634-4302-b85f-3406b2050c7b"
      },
      "source": [
        "data.drop(['Entity', 'Code'], axis=1, inplace=True) # axis specifies row drop or column drop\n",
        "data.head()"
      ],
      "execution_count": 27,
      "outputs": [
        {
          "output_type": "execute_result",
          "data": {
            "text/html": [
              "<div>\n",
              "<style scoped>\n",
              "    .dataframe tbody tr th:only-of-type {\n",
              "        vertical-align: middle;\n",
              "    }\n",
              "\n",
              "    .dataframe tbody tr th {\n",
              "        vertical-align: top;\n",
              "    }\n",
              "\n",
              "    .dataframe thead th {\n",
              "        text-align: right;\n",
              "    }\n",
              "</style>\n",
              "<table border=\"1\" class=\"dataframe\">\n",
              "  <thead>\n",
              "    <tr style=\"text-align: right;\">\n",
              "      <th></th>\n",
              "      <th>Human Height (University of Tuebingen (2015))</th>\n",
              "    </tr>\n",
              "    <tr>\n",
              "      <th>Year</th>\n",
              "      <th></th>\n",
              "    </tr>\n",
              "  </thead>\n",
              "  <tbody>\n",
              "    <tr>\n",
              "      <th>1900</th>\n",
              "      <td>170.0</td>\n",
              "    </tr>\n",
              "    <tr>\n",
              "      <th>1910</th>\n",
              "      <td>172.1</td>\n",
              "    </tr>\n",
              "    <tr>\n",
              "      <th>1920</th>\n",
              "      <td>173.1</td>\n",
              "    </tr>\n",
              "    <tr>\n",
              "      <th>1930</th>\n",
              "      <td>173.4</td>\n",
              "    </tr>\n",
              "    <tr>\n",
              "      <th>1940</th>\n",
              "      <td>176.1</td>\n",
              "    </tr>\n",
              "  </tbody>\n",
              "</table>\n",
              "</div>"
            ],
            "text/plain": [
              "      Human Height (University of Tuebingen (2015))\n",
              "Year                                               \n",
              "1900                                          170.0\n",
              "1910                                          172.1\n",
              "1920                                          173.1\n",
              "1930                                          173.4\n",
              "1940                                          176.1"
            ]
          },
          "metadata": {
            "tags": []
          },
          "execution_count": 27
        }
      ]
    },
    {
      "cell_type": "code",
      "metadata": {
        "id": "cLy9PtMlngqP",
        "colab": {
          "base_uri": "https://localhost:8080/",
          "height": 359
        },
        "outputId": "92a30821-7f05-4ec4-e6d8-758ae8489598"
      },
      "source": [
        "data = data.rename(columns={'Human Height (University of Tuebingen (2015))': \"Height(cm)\"})\n",
        "data"
      ],
      "execution_count": 28,
      "outputs": [
        {
          "output_type": "execute_result",
          "data": {
            "text/html": [
              "<div>\n",
              "<style scoped>\n",
              "    .dataframe tbody tr th:only-of-type {\n",
              "        vertical-align: middle;\n",
              "    }\n",
              "\n",
              "    .dataframe tbody tr th {\n",
              "        vertical-align: top;\n",
              "    }\n",
              "\n",
              "    .dataframe thead th {\n",
              "        text-align: right;\n",
              "    }\n",
              "</style>\n",
              "<table border=\"1\" class=\"dataframe\">\n",
              "  <thead>\n",
              "    <tr style=\"text-align: right;\">\n",
              "      <th></th>\n",
              "      <th>Height(cm)</th>\n",
              "    </tr>\n",
              "    <tr>\n",
              "      <th>Year</th>\n",
              "      <th></th>\n",
              "    </tr>\n",
              "  </thead>\n",
              "  <tbody>\n",
              "    <tr>\n",
              "      <th>1900</th>\n",
              "      <td>170.0</td>\n",
              "    </tr>\n",
              "    <tr>\n",
              "      <th>1910</th>\n",
              "      <td>172.1</td>\n",
              "    </tr>\n",
              "    <tr>\n",
              "      <th>1920</th>\n",
              "      <td>173.1</td>\n",
              "    </tr>\n",
              "    <tr>\n",
              "      <th>1930</th>\n",
              "      <td>173.4</td>\n",
              "    </tr>\n",
              "    <tr>\n",
              "      <th>1940</th>\n",
              "      <td>176.1</td>\n",
              "    </tr>\n",
              "    <tr>\n",
              "      <th>1950</th>\n",
              "      <td>177.1</td>\n",
              "    </tr>\n",
              "    <tr>\n",
              "      <th>1960</th>\n",
              "      <td>177.3</td>\n",
              "    </tr>\n",
              "    <tr>\n",
              "      <th>1970</th>\n",
              "      <td>178.3</td>\n",
              "    </tr>\n",
              "    <tr>\n",
              "      <th>1980</th>\n",
              "      <td>179.0</td>\n",
              "    </tr>\n",
              "  </tbody>\n",
              "</table>\n",
              "</div>"
            ],
            "text/plain": [
              "      Height(cm)\n",
              "Year            \n",
              "1900       170.0\n",
              "1910       172.1\n",
              "1920       173.1\n",
              "1930       173.4\n",
              "1940       176.1\n",
              "1950       177.1\n",
              "1960       177.3\n",
              "1970       178.3\n",
              "1980       179.0"
            ]
          },
          "metadata": {
            "tags": []
          },
          "execution_count": 28
        }
      ]
    },
    {
      "cell_type": "markdown",
      "metadata": {
        "id": "JyEggVucno6r"
      },
      "source": [
        "### 6. Plot height vs. year\n",
        "- Extract the list of heights.\n",
        "- Extract the list of years.\n",
        "- Use `plt.plot()` to create a scatter plot."
      ]
    },
    {
      "cell_type": "code",
      "metadata": {
        "id": "eJie4oAOnvWo",
        "colab": {
          "base_uri": "https://localhost:8080/",
          "height": 282
        },
        "outputId": "3d2b09ca-fdb2-455f-ff37-fcde0bf9b6f8"
      },
      "source": [
        "heights = data['Height(cm)']\n",
        "years = data.index\n",
        "plt.plot(years, heights, 'g.-')"
      ],
      "execution_count": 29,
      "outputs": [
        {
          "output_type": "execute_result",
          "data": {
            "text/plain": [
              "[<matplotlib.lines.Line2D at 0x7f32028e4950>]"
            ]
          },
          "metadata": {
            "tags": []
          },
          "execution_count": 29
        },
        {
          "output_type": "display_data",
          "data": {
            "image/png": "[encoded data removed]",
            "text/plain": [
              "<Figure size 432x288 with 1 Axes>"
            ]
          },
          "metadata": {
            "tags": [],
            "needs_background": "light"
          }
        }
      ]
    },
    {
      "cell_type": "markdown",
      "metadata": {
        "id": "W4Lhccufnxsk"
      },
      "source": [
        "**How would you describe the trend?**\n",
        "1. Is there a trend?\n",
        "\n",
        "Answer: there is linear upward trend \n",
        "2. Is the trend upward or downward?\n",
        "\n",
        "Answer: upward\n",
        "3. It the trend consistent?\n",
        "\n",
        "Answer: pretty consistent \n",
        "\n",
        "**Conclusion**:During 20th century men's heights are increased at steady rate"
      ]
    },
    {
      "cell_type": "markdown",
      "metadata": {
        "id": "JIlYAamWSbdU"
      },
      "source": [
        ""
      ]
    },
    {
      "cell_type": "markdown",
      "metadata": {
        "id": "pi2hHu3goFKy"
      },
      "source": [
        "## 7. Modeling\n",
        "\n",
        "Since we haven't studied any modeling method yet, let's use our intuition to find a function that describes the relation between year and height.\n",
        "- Linear model ($height = m \\cdot year + b$) seems a good fit to the data.\n",
        "- What is a good value for $m$?\n",
        "- What is a good value for $b$?\n",
        "- Plot the line represented by the linear model\n",
        "    - Create a list of x-coordinates using `np.linspace`\n",
        "    - Calculate the corresponding y-coordinates\n",
        "    - Use these two lists to plot the line."
      ]
    },
    {
      "cell_type": "code",
      "metadata": {
        "id": "TxAcEgyFoUFj",
        "colab": {
          "base_uri": "https://localhost:8080/"
        },
        "outputId": "39f96b03-b258-4886-d4fb-2749b5d1f087"
      },
      "source": [
        "# Calculate the average increase per year between 1900 and 1980\n",
        "# two point (1900, 170) and (1980, 179)\n",
        "m = (179 - 170)/(1980 - 1900)\n",
        "print(\"slope =\", m)\n"
      ],
      "execution_count": 30,
      "outputs": [
        {
          "output_type": "stream",
          "text": [
            "slope = 0.1125\n"
          ],
          "name": "stdout"
        }
      ]
    },
    {
      "cell_type": "code",
      "metadata": {
        "id": "m73_5loQohPn",
        "colab": {
          "base_uri": "https://localhost:8080/"
        },
        "outputId": "3f0a6875-b309-4b75-b123-7b4e4d1633be"
      },
      "source": [
        "# Let the slope be the average rate of increase.\n",
        "# If the model is height = m * year + b, \n",
        "# find the value of b so that point (1900, 170.0) lies on the line.\n",
        "height = 170\n",
        "year = 1900\n",
        "m = 0.1125\n",
        "b = height - m * year\n",
        "print(\"Y-Intercept =\", b) "
      ],
      "execution_count": 31,
      "outputs": [
        {
          "output_type": "stream",
          "text": [
            "Y-Intercept = -43.75\n"
          ],
          "name": "stdout"
        }
      ]
    },
    {
      "cell_type": "markdown",
      "metadata": {
        "id": "1N0agKxT-5l2"
      },
      "source": [
        "\n",
        "Now our linear model is: height = 0.1125 * year - 43.75"
      ]
    },
    {
      "cell_type": "code",
      "metadata": {
        "id": "qGV3a7lzo3JE",
        "colab": {
          "base_uri": "https://localhost:8080/",
          "height": 282
        },
        "outputId": "2f856d8e-a611-4246-9f09-5e1252dfe492"
      },
      "source": [
        "# Plot the model line.\n",
        "years = np.array([1900, 1940, 1980])\n",
        "heights = 0.1125 * years - 43.75\n",
        "\n",
        "plt.plot(years, heights, 'r-')\n",
        "\n",
        "# show the data points on this plot\n",
        "plt.plot(data.index, data['Height(cm)'], 'g.')"
      ],
      "execution_count": 32,
      "outputs": [
        {
          "output_type": "execute_result",
          "data": {
            "text/plain": [
              "[<matplotlib.lines.Line2D at 0x7f3202396f90>]"
            ]
          },
          "metadata": {
            "tags": []
          },
          "execution_count": 32
        },
        {
          "output_type": "display_data",
          "data": {
            "image/png": "[encoded data removed]",
            "text/plain": [
              "<Figure size 432x288 with 1 Axes>"
            ]
          },
          "metadata": {
            "tags": [],
            "needs_background": "light"
          }
        }
      ]
    },
    {
      "cell_type": "markdown",
      "metadata": {
        "id": "cMVSz5VfpRg7"
      },
      "source": [
        "**Can you find another line that fits the model better?**"
      ]
    },
    {
      "cell_type": "code",
      "metadata": {
        "id": "i6ik6p7_pW0c",
        "colab": {
          "base_uri": "https://localhost:8080/",
          "height": 286
        },
        "outputId": "0b750129-26ec-44a9-9fc7-e12c6d069ef3"
      },
      "source": [
        "m2 = 0.112\n",
        "b2 = -42.2\n",
        "\n",
        "plt.plot(years, heights, 'r-')\n",
        "plt.plot(data.index, data['Height(cm)'], 'g.')\n",
        "\n",
        "# plot the second line on this graph\n",
        "heights2 = m2 * years + b2 \n",
        "plt.plot(years, heights2, 'b-')"
      ],
      "execution_count": 33,
      "outputs": [
        {
          "output_type": "execute_result",
          "data": {
            "text/plain": [
              "[<matplotlib.lines.Line2D at 0x7f320231dad0>]"
            ]
          },
          "metadata": {
            "tags": []
          },
          "execution_count": 33
        },
        {
          "output_type": "display_data",
          "data": {
            "image/png": "[encoded data removed]",
            "text/plain": [
              "<Figure size 432x288 with 1 Axes>"
            ]
          },
          "metadata": {
            "tags": [],
            "needs_background": "light"
          }
        }
      ]
    },
    {
      "cell_type": "markdown",
      "metadata": {
        "id": "9AB-4-Nwo9is"
      },
      "source": [
        "## 8. Model Evaluation\n",
        "- Objective: find a linear model whose predictions are *close* to the actual values.\n",
        "- Metric on closeness: **mean square error (MSE):**\n",
        "$$MSE = \\frac{1}{\\textit{number of data}}\\sum_{\\text{(x, y) in dataset}}(mx + b - y)^2$$\n",
        "\n",
        "Now that we have multiple model candidates, which one gives the smallest MSE?"
      ]
    },
    {
      "cell_type": "code",
      "metadata": {
        "id": "s2wVync3pD7G",
        "colab": {
          "base_uri": "https://localhost:8080/"
        },
        "outputId": "a516f8f3-4e35-4629-e1b7-f463875dca8b"
      },
      "source": [
        "# Example: Calculate the error for 1930\n",
        "m = 0.1125\n",
        "b = -43.75\n",
        "\n",
        "# For the data point about 1930:\n",
        "x = 1930\n",
        "y = 173.4\n",
        "\n",
        "# Prediction of the model for 1930:\n",
        "prediction = m * x + b\n",
        "print(\"Predicton for 1930:\", prediction)\n",
        "\n",
        "# Squared Error for 1930:\n",
        "error = (prediction - y) ** 2\n",
        "print(\"Error for 1930:\", error)"
      ],
      "execution_count": null,
      "outputs": [
        {
          "output_type": "stream",
          "text": [
            "Predicton for 1930: 173.375\n",
            "Error for 1930: 0.0006250000000002842\n"
          ],
          "name": "stdout"
        }
      ]
    },
    {
      "cell_type": "code",
      "metadata": {
        "id": "RMqGDiuNpcZc",
        "colab": {
          "base_uri": "https://localhost:8080/"
        },
        "outputId": "357a6e87-f4c7-4c2b-cf3e-9f84ec064a9f"
      },
      "source": [
        "# Calculate errors for each year\n",
        "data.index\n",
        "\n",
        "errors = []\n",
        "\n",
        "for year in data.index:\n",
        "\n",
        "  # Calculate the squared error for that year\n",
        "\n",
        "  prediction = m * year + b\n",
        "\n",
        "  y = data.loc[year,'Height(cm)'] \n",
        "\n",
        "  error = (prediction - y)**2\n",
        "\n",
        "  # append the error to the errors list\n",
        "\n",
        "  errors.append(error)\n",
        "\n",
        "# Now you should have a list of errors.\n",
        "print(errors) \n",
        "  \n",
        "\n",
        "# Calculate the mean squared error, use np.mean() function\n",
        "\n",
        "MSE = 1/len(errors) * sum(errors)\n",
        "print(\"MSE= \", MSE)\n",
        "print(np.mean(errors))\n"
      ],
      "execution_count": 34,
      "outputs": [
        {
          "output_type": "stream",
          "text": [
            "[0.0, 0.950624999999989, 0.7224999999999904, 0.0006250000000002842, 2.559999999999982, 2.1756249999999833, 0.3025000000000125, 0.18062500000000967, 0.0]\n",
            "MSE=  0.7658333333333297\n",
            "0.7658333333333297\n"
          ],
          "name": "stdout"
        }
      ]
    },
    {
      "cell_type": "code",
      "metadata": {
        "id": "FUEnKHRcpdon",
        "colab": {
          "base_uri": "https://localhost:8080/"
        },
        "outputId": "fe36d1ab-4fdc-4d53-cf5f-3dbcc93c07ba"
      },
      "source": [
        "# Calculate the mean squared error\n",
        "\n",
        "print(np.mean(errors))"
      ],
      "execution_count": 35,
      "outputs": [
        {
          "output_type": "stream",
          "text": [
            "0.7658333333333297\n"
          ],
          "name": "stdout"
        }
      ]
    },
    {
      "cell_type": "markdown",
      "metadata": {
        "id": "sc0mEvmEpg16"
      },
      "source": [
        "## 9: Use the Model\n",
        "- What is your prediction on the average height in 1890?, 2000? 2050?\n",
        "- Check with the raw dataset and see if your 1890 prediction is close."
      ]
    },
    {
      "cell_type": "code",
      "metadata": {
        "id": "3zAqiKt_plut",
        "colab": {
          "base_uri": "https://localhost:8080/"
        },
        "outputId": "52d4b57c-612d-4e0b-cabe-9cdd00bcad40"
      },
      "source": [
        "# Calculate the model prediction for year = 1890\n",
        "# Height = m * year + b\n",
        "# Height = 0.1125 * year - 43.75\n",
        "Height_prediction_1890 = 0.1125 * 1890 - 43.75\n",
        "print(Height_prediction_1890)\n"
      ],
      "execution_count": 36,
      "outputs": [
        {
          "output_type": "stream",
          "text": [
            "168.875\n"
          ],
          "name": "stdout"
        }
      ]
    },
    {
      "cell_type": "code",
      "metadata": {
        "id": "G4EcFjuLptma",
        "colab": {
          "base_uri": "https://localhost:8080/",
          "height": 80
        },
        "outputId": "3326d0a8-7a82-4c35-eb5f-cb1ecc42dce0"
      },
      "source": [
        "# Find the actual average height for year 1890.\n",
        "raw_data[(raw_data[\"Entity\"] == \"United States\") & (raw_data['Year']==1890)]\n"
      ],
      "execution_count": 37,
      "outputs": [
        {
          "output_type": "execute_result",
          "data": {
            "text/html": [
              "<div>\n",
              "<style scoped>\n",
              "    .dataframe tbody tr th:only-of-type {\n",
              "        vertical-align: middle;\n",
              "    }\n",
              "\n",
              "    .dataframe tbody tr th {\n",
              "        vertical-align: top;\n",
              "    }\n",
              "\n",
              "    .dataframe thead th {\n",
              "        text-align: right;\n",
              "    }\n",
              "</style>\n",
              "<table border=\"1\" class=\"dataframe\">\n",
              "  <thead>\n",
              "    <tr style=\"text-align: right;\">\n",
              "      <th></th>\n",
              "      <th>Entity</th>\n",
              "      <th>Code</th>\n",
              "      <th>Year</th>\n",
              "      <th>Human Height (University of Tuebingen (2015))</th>\n",
              "    </tr>\n",
              "  </thead>\n",
              "  <tbody>\n",
              "    <tr>\n",
              "      <th>1201</th>\n",
              "      <td>United States</td>\n",
              "      <td>USA</td>\n",
              "      <td>1890</td>\n",
              "      <td>169.1</td>\n",
              "    </tr>\n",
              "  </tbody>\n",
              "</table>\n",
              "</div>"
            ],
            "text/plain": [
              "             Entity Code  Year  Human Height (University of Tuebingen (2015))\n",
              "1201  United States  USA  1890                                          169.1"
            ]
          },
          "metadata": {
            "tags": []
          },
          "execution_count": 37
        }
      ]
    },
    {
      "cell_type": "markdown",
      "metadata": {
        "id": "pPPp2zEwpxl6"
      },
      "source": [
        "# Week 2 Homework\n",
        "Build a linear model (height = m * year + b) to escribe the trend of height increase for **United Kingdom** between 1900 and 1980. Compute the mean square error of your model, and display the model line together with the data points."
      ]
    },
    {
      "cell_type": "code",
      "metadata": {
        "id": "8b_i9qdkp95Q"
      },
      "source": [
        ""
      ],
      "execution_count": null,
      "outputs": []
    }
  ]
}