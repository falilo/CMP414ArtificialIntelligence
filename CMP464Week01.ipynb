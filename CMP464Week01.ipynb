{
  "nbformat": 4,
  "nbformat_minor": 0,
  "metadata": {
    "colab": {
      "name": "CMP464Week01",
      "provenance": [],
      "authorship_tag": "ABX9TyPQQZ07cnmnoSeh3TeSxX6n",
      "include_colab_link": true
    },
    "kernelspec": {
      "name": "python3",
      "display_name": "Python 3"
    }
  },
  "cells": [
    {
      "cell_type": "markdown",
      "metadata": {
        "id": "view-in-github",
        "colab_type": "text"
      },
      "source": [
        "<a href=\"https://colab.research.google.com/github/falilo/CMP414ArtificialIntelligence/blob/main/CMP464Week01.ipynb\" target=\"_parent\"><img src=\"https://colab.research.google.com/assets/colab-badge.svg\" alt=\"Open In Colab\"/></a>"
      ]
    },
    {
      "cell_type": "markdown",
      "metadata": {
        "id": "QlHYJNYcZoRB"
      },
      "source": [
        "# Week1 Notebook\n",
        "## Python Basics\n",
        "This is a paragraph of text. The content of the text cell is not recognized as a python code, and it connot be excuted."
      ]
    },
    {
      "cell_type": "markdown",
      "metadata": {
        "id": "GAm2EFCNDL-u"
      },
      "source": [
        "Dictionary same as java"
      ]
    },
    {
      "cell_type": "code",
      "metadata": {
        "id": "3NGpD-QoDSwg",
        "colab": {
          "base_uri": "https://localhost:8080/"
        },
        "outputId": "2efc1291-a28c-4091-ab66-3475afa6743c"
      },
      "source": [
        "scores = {\"Imtihal\":2001,\n",
        "          \"Falilou\":1983,\n",
        "          \"Achraf\":1987}\n",
        "print(scores[\"Imtihal\"])"
      ],
      "execution_count": 3,
      "outputs": [
        {
          "output_type": "stream",
          "text": [
            "2001\n"
          ],
          "name": "stdout"
        }
      ]
    },
    {
      "cell_type": "code",
      "metadata": {
        "id": "0l2VJJ5mGBt9",
        "colab": {
          "base_uri": "https://localhost:8080/"
        },
        "outputId": "48b5fb01-71a9-457f-deff-9a9eccb1e4d9"
      },
      "source": [
        "# check if the item is the scores\n",
        "print(\"Falilou\" in scores)\n",
        "print(\"Ouro - Djobo\" in scores)"
      ],
      "execution_count": 5,
      "outputs": [
        {
          "output_type": "stream",
          "text": [
            "True\n",
            "False\n"
          ],
          "name": "stdout"
        }
      ]
    },
    {
      "cell_type": "code",
      "metadata": {
        "id": "jH8ALiQhVOwk",
        "colab": {
          "base_uri": "https://localhost:8080/"
        },
        "outputId": "50d5034a-eef0-48f6-a79d-535837ef0775"
      },
      "source": [
        "print(\"Hello World from Falilou!:)\")"
      ],
      "execution_count": 6,
      "outputs": [
        {
          "output_type": "stream",
          "text": [
            "Hello World from Falilou!:)\n"
          ],
          "name": "stdout"
        }
      ]
    },
    {
      "cell_type": "code",
      "metadata": {
        "id": "Sl9DcZlyYpcT",
        "colab": {
          "base_uri": "https://localhost:8080/"
        },
        "outputId": "13fa713d-a0a0-45c0-ffee-a7f864912d6b"
      },
      "source": [
        "print(1 + 2)\n",
        "print(4 * 5)\n",
        "print(12345 / 7)"
      ],
      "execution_count": 8,
      "outputs": [
        {
          "output_type": "stream",
          "text": [
            "3\n",
            "20\n",
            "1763.5714285714287\n"
          ],
          "name": "stdout"
        }
      ]
    },
    {
      "cell_type": "code",
      "metadata": {
        "id": "LhdrwAfweXh7",
        "colab": {
          "base_uri": "https://localhost:8080/"
        },
        "outputId": "ebd12baa-68a9-49df-9844-9a54e1a0b87f"
      },
      "source": [
        "print(\"Hello World!\")"
      ],
      "execution_count": 9,
      "outputs": [
        {
          "output_type": "stream",
          "text": [
            "Hello World!\n"
          ],
          "name": "stdout"
        }
      ]
    },
    {
      "cell_type": "code",
      "metadata": {
        "id": "WBVdWh0KfHfz",
        "colab": {
          "base_uri": "https://localhost:8080/"
        },
        "outputId": "7164e708-083c-4cda-8014-912bd2ea286b"
      },
      "source": [
        "print(1.5 * 1.5)"
      ],
      "execution_count": 10,
      "outputs": [
        {
          "output_type": "stream",
          "text": [
            "2.25\n"
          ],
          "name": "stdout"
        }
      ]
    },
    {
      "cell_type": "code",
      "metadata": {
        "id": "S4jtJhzjfX8f",
        "colab": {
          "base_uri": "https://localhost:8080/"
        },
        "outputId": "3f51b188-c3d3-4595-94a5-49e957b4f8cc"
      },
      "source": [
        "print(1.5**2) # double asteric means 1.5 squared"
      ],
      "execution_count": 11,
      "outputs": [
        {
          "output_type": "stream",
          "text": [
            "2.25\n"
          ],
          "name": "stdout"
        }
      ]
    },
    {
      "cell_type": "code",
      "metadata": {
        "id": "JxBALfCEf0pm",
        "colab": {
          "base_uri": "https://localhost:8080/"
        },
        "outputId": "9fa77acf-41b5-40c1-e4bb-c4f4350b6e27"
      },
      "source": [
        "print(2, 2**2, 2**3, 2**4, 2**5)"
      ],
      "execution_count": 13,
      "outputs": [
        {
          "output_type": "stream",
          "text": [
            "2 4 8 16 32\n"
          ],
          "name": "stdout"
        }
      ]
    },
    {
      "cell_type": "code",
      "metadata": {
        "id": "TtcRb53TFngg",
        "colab": {
          "base_uri": "https://localhost:8080/"
        },
        "outputId": "b3faabe0-3fdb-4bd4-8069-358e134b8eac"
      },
      "source": [
        "height = 5.57\n",
        "weight = 154\n",
        "print(height, weight)"
      ],
      "execution_count": 18,
      "outputs": [
        {
          "output_type": "stream",
          "text": [
            "5.57 154\n"
          ],
          "name": "stdout"
        }
      ]
    },
    {
      "cell_type": "code",
      "metadata": {
        "id": "IpJie0eLGq92",
        "colab": {
          "base_uri": "https://localhost:8080/"
        },
        "outputId": "3498fc75-2bdd-4648-de62-7274bd16ec3e"
      },
      "source": [
        "BMI = weight/height**2\n",
        "print(\"BMI\", BMI)"
      ],
      "execution_count": 19,
      "outputs": [
        {
          "output_type": "stream",
          "text": [
            "BMI 4.9637549194356785\n"
          ],
          "name": "stdout"
        }
      ]
    },
    {
      "cell_type": "code",
      "metadata": {
        "id": "gI0yaO-pHMrf"
      },
      "source": [
        ""
      ],
      "execution_count": null,
      "outputs": []
    },
    {
      "cell_type": "markdown",
      "metadata": {
        "id": "o9uyQ9mPHOyB"
      },
      "source": [
        "float"
      ]
    },
    {
      "cell_type": "code",
      "metadata": {
        "id": "9BaL6XbxHSQJ",
        "colab": {
          "base_uri": "https://localhost:8080/"
        },
        "outputId": "28019180-5585-4332-80e8-233ee9da12a5"
      },
      "source": [
        "a = 10\n",
        "print(type(a))"
      ],
      "execution_count": 20,
      "outputs": [
        {
          "output_type": "stream",
          "text": [
            "<class 'int'>\n"
          ],
          "name": "stdout"
        }
      ]
    },
    {
      "cell_type": "code",
      "metadata": {
        "id": "nOdxM04HJN1-",
        "colab": {
          "base_uri": "https://localhost:8080/"
        },
        "outputId": "55c77659-9be0-429e-916f-29173dc51bdb"
      },
      "source": [
        "D = 70085 \n",
        "T = 15\n",
        "Speed = D/T\n",
        "print(\"Speed\",\"=\", Speed)"
      ],
      "execution_count": 21,
      "outputs": [
        {
          "output_type": "stream",
          "text": [
            "Speed = 4672.333333333333\n"
          ],
          "name": "stdout"
        }
      ]
    },
    {
      "cell_type": "code",
      "metadata": {
        "id": "PCVRU0xFjrtg",
        "colab": {
          "base_uri": "https://localhost:8080/"
        },
        "outputId": "c206f984-f8ca-4a99-ed3a-b33c7494ed1c"
      },
      "source": [
        "str1 = \"Imtihal\"\n",
        "boolean1 = True \n",
        "print(str1)\n",
        "print(\"Type of str1:\",type(str1))\n",
        "print(\"type of boolean1:\",type(boolean1))"
      ],
      "execution_count": 22,
      "outputs": [
        {
          "output_type": "stream",
          "text": [
            "Imtihal\n",
            "Type of str1: <class 'str'>\n",
            "type of boolean1: <class 'bool'>\n"
          ],
          "name": "stdout"
        }
      ]
    },
    {
      "cell_type": "markdown",
      "metadata": {
        "id": "IPwIoOnhmQfc"
      },
      "source": [
        "Scientific notation\n"
      ]
    },
    {
      "cell_type": "code",
      "metadata": {
        "id": "mP1t5Uc7mVwQ",
        "colab": {
          "base_uri": "https://localhost:8080/"
        },
        "outputId": "19d08445-0d48-463f-dc9b-2e302e5d63b9"
      },
      "source": [
        "# x = 1000000000\n",
        "x = 1e9 # represent 1.0*(10**9)\n",
        "print(x)\n",
        "y = 1.2e-14 # represent 1.2*(10**-14)\n",
        "print(y)"
      ],
      "execution_count": 23,
      "outputs": [
        {
          "output_type": "stream",
          "text": [
            "1000000000.0\n",
            "1.2e-14\n"
          ],
          "name": "stdout"
        }
      ]
    },
    {
      "cell_type": "markdown",
      "metadata": {
        "id": "kRFUSpcln4lR"
      },
      "source": [
        "Mathmatic operation"
      ]
    },
    {
      "cell_type": "code",
      "metadata": {
        "id": "Y0LTeJ1hn_Fg",
        "colab": {
          "base_uri": "https://localhost:8080/"
        },
        "outputId": "1168cec7-3988-45a1-bcb7-0965532bf119"
      },
      "source": [
        "import math \n",
        "x = math.sqrt(9)\n",
        "print(x)\n",
        "y = math.sqrt(5)\n",
        "print(y)\n",
        "z = 2.2360679**2\n",
        "print(z)"
      ],
      "execution_count": 24,
      "outputs": [
        {
          "output_type": "stream",
          "text": [
            "3.0\n",
            "2.23606797749979\n",
            "4.99999965341041\n"
          ],
          "name": "stdout"
        }
      ]
    },
    {
      "cell_type": "code",
      "metadata": {
        "id": "P_T2AxJopKTK",
        "colab": {
          "base_uri": "https://localhost:8080/"
        },
        "outputId": "56c8b73b-8fc4-4612-9e99-cc7c7848cf05"
      },
      "source": [
        "# Trigonometric functions\n",
        "a = math.sin(90)\n",
        "b = math.cos(90)\n",
        "print(a,b)\n",
        "c = math.sin(30)\n",
        "d = math.cos(30)\n",
        "print(c,d)"
      ],
      "execution_count": 25,
      "outputs": [
        {
          "output_type": "stream",
          "text": [
            "0.8939966636005579 -0.4480736161291701\n",
            "-0.9880316240928618 0.15425144988758405\n"
          ],
          "name": "stdout"
        }
      ]
    },
    {
      "cell_type": "code",
      "metadata": {
        "id": "Bo6l2UuMqRG_",
        "colab": {
          "base_uri": "https://localhost:8080/"
        },
        "outputId": "838262f1-a99c-4028-feb0-46fc869a4c8f"
      },
      "source": [
        "# quadratic formula\n",
        "a = 1\n",
        "b = 5\n",
        "c = 4\n",
        "x1 =(-5 + math.sqrt(5**2 - (4*1*4)))/2*1\n",
        "x2 =(-5 - math.sqrt(5**2 -(4*1*4)))/2*1\n",
        "print(\"x1=\",x1)\n",
        "print(\"x2=\",x2)"
      ],
      "execution_count": 26,
      "outputs": [
        {
          "output_type": "stream",
          "text": [
            "x1= -1.0\n",
            "x2= -4.0\n"
          ],
          "name": "stdout"
        }
      ]
    },
    {
      "cell_type": "code",
      "metadata": {
        "id": "Rfh23ESiuwWI",
        "colab": {
          "base_uri": "https://localhost:8080/"
        },
        "outputId": "2254a160-f72d-43e4-8b41-dc692d6e72b1"
      },
      "source": [
        "# calculate the sum of first 100 integers (0....99)\n",
        "init = 0\n",
        "for i in range(0,100):\n",
        "  init +=i\n",
        "print(init)"
      ],
      "execution_count": 27,
      "outputs": [
        {
          "output_type": "stream",
          "text": [
            "4950\n"
          ],
          "name": "stdout"
        }
      ]
    }
  ]
}