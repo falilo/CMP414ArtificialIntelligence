{
  "nbformat": 4,
  "nbformat_minor": 0,
  "metadata": {
    "colab": {
      "name": "Week5 Homework.ipynb",
      "provenance": [],
      "collapsed_sections": [],
      "authorship_tag": "ABX9TyNNS3gNdy5Z4fdXwBSjgD0J",
      "include_colab_link": true
    },
    "kernelspec": {
      "name": "python3",
      "display_name": "Python 3"
    }
  },
  "cells": [
    {
      "cell_type": "markdown",
      "metadata": {
        "id": "view-in-github",
        "colab_type": "text"
      },
      "source": [
        "<a href=\"https://colab.research.google.com/github/falilo/CMP414ArtificialIntelligence/blob/main/Week5_Homework.ipynb\" target=\"_parent\"><img src=\"https://colab.research.google.com/assets/colab-badge.svg\" alt=\"Open In Colab\"/></a>"
      ]
    },
    {
      "cell_type": "code",
      "metadata": {
        "id": "QDacrI4X7dDF"
      },
      "source": [
        "import numpy as np\n",
        "import pandas as pd\n",
        "import matplotlib.pyplot as plt\n",
        "%matplotlib inline"
      ],
      "execution_count": 1,
      "outputs": []
    },
    {
      "cell_type": "code",
      "metadata": {
        "colab": {
          "base_uri": "https://localhost:8080/",
          "height": 204
        },
        "id": "pxSa0zd17zPG",
        "outputId": "17c278d1-beb3-4f9c-ed89-b536cb82c3d3"
      },
      "source": [
        "url = \"https://www.statlearning.com/s/Advertising.csv\"\n",
        "advertising = pd.read_csv(url, index_col=0)\n",
        "advertising.head()"
      ],
      "execution_count": 2,
      "outputs": [
        {
          "output_type": "execute_result",
          "data": {
            "text/html": [
              "<div>\n",
              "<style scoped>\n",
              "    .dataframe tbody tr th:only-of-type {\n",
              "        vertical-align: middle;\n",
              "    }\n",
              "\n",
              "    .dataframe tbody tr th {\n",
              "        vertical-align: top;\n",
              "    }\n",
              "\n",
              "    .dataframe thead th {\n",
              "        text-align: right;\n",
              "    }\n",
              "</style>\n",
              "<table border=\"1\" class=\"dataframe\">\n",
              "  <thead>\n",
              "    <tr style=\"text-align: right;\">\n",
              "      <th></th>\n",
              "      <th>TV</th>\n",
              "      <th>radio</th>\n",
              "      <th>newspaper</th>\n",
              "      <th>sales</th>\n",
              "    </tr>\n",
              "  </thead>\n",
              "  <tbody>\n",
              "    <tr>\n",
              "      <th>1</th>\n",
              "      <td>230.1</td>\n",
              "      <td>37.8</td>\n",
              "      <td>69.2</td>\n",
              "      <td>22.1</td>\n",
              "    </tr>\n",
              "    <tr>\n",
              "      <th>2</th>\n",
              "      <td>44.5</td>\n",
              "      <td>39.3</td>\n",
              "      <td>45.1</td>\n",
              "      <td>10.4</td>\n",
              "    </tr>\n",
              "    <tr>\n",
              "      <th>3</th>\n",
              "      <td>17.2</td>\n",
              "      <td>45.9</td>\n",
              "      <td>69.3</td>\n",
              "      <td>9.3</td>\n",
              "    </tr>\n",
              "    <tr>\n",
              "      <th>4</th>\n",
              "      <td>151.5</td>\n",
              "      <td>41.3</td>\n",
              "      <td>58.5</td>\n",
              "      <td>18.5</td>\n",
              "    </tr>\n",
              "    <tr>\n",
              "      <th>5</th>\n",
              "      <td>180.8</td>\n",
              "      <td>10.8</td>\n",
              "      <td>58.4</td>\n",
              "      <td>12.9</td>\n",
              "    </tr>\n",
              "  </tbody>\n",
              "</table>\n",
              "</div>"
            ],
            "text/plain": [
              "      TV  radio  newspaper  sales\n",
              "1  230.1   37.8       69.2   22.1\n",
              "2   44.5   39.3       45.1   10.4\n",
              "3   17.2   45.9       69.3    9.3\n",
              "4  151.5   41.3       58.5   18.5\n",
              "5  180.8   10.8       58.4   12.9"
            ]
          },
          "metadata": {
            "tags": []
          },
          "execution_count": 2
        }
      ]
    },
    {
      "cell_type": "markdown",
      "metadata": {
        "id": "n3wfbnRu8A4l"
      },
      "source": [
        "1. Apply the normal equation to calculate parameter values for the best fit."
      ]
    },
    {
      "cell_type": "code",
      "metadata": {
        "colab": {
          "base_uri": "https://localhost:8080/",
          "height": 204
        },
        "id": "OyT6M5AJ8GhH",
        "outputId": "ac577a10-aedb-4778-986a-30ac417a4364"
      },
      "source": [
        "# Let extract the data of radio and sales from advertising data\n",
        "data = advertising.loc[:, ['radio', 'sales']]\n",
        "data.head()"
      ],
      "execution_count": 3,
      "outputs": [
        {
          "output_type": "execute_result",
          "data": {
            "text/html": [
              "<div>\n",
              "<style scoped>\n",
              "    .dataframe tbody tr th:only-of-type {\n",
              "        vertical-align: middle;\n",
              "    }\n",
              "\n",
              "    .dataframe tbody tr th {\n",
              "        vertical-align: top;\n",
              "    }\n",
              "\n",
              "    .dataframe thead th {\n",
              "        text-align: right;\n",
              "    }\n",
              "</style>\n",
              "<table border=\"1\" class=\"dataframe\">\n",
              "  <thead>\n",
              "    <tr style=\"text-align: right;\">\n",
              "      <th></th>\n",
              "      <th>radio</th>\n",
              "      <th>sales</th>\n",
              "    </tr>\n",
              "  </thead>\n",
              "  <tbody>\n",
              "    <tr>\n",
              "      <th>1</th>\n",
              "      <td>37.8</td>\n",
              "      <td>22.1</td>\n",
              "    </tr>\n",
              "    <tr>\n",
              "      <th>2</th>\n",
              "      <td>39.3</td>\n",
              "      <td>10.4</td>\n",
              "    </tr>\n",
              "    <tr>\n",
              "      <th>3</th>\n",
              "      <td>45.9</td>\n",
              "      <td>9.3</td>\n",
              "    </tr>\n",
              "    <tr>\n",
              "      <th>4</th>\n",
              "      <td>41.3</td>\n",
              "      <td>18.5</td>\n",
              "    </tr>\n",
              "    <tr>\n",
              "      <th>5</th>\n",
              "      <td>10.8</td>\n",
              "      <td>12.9</td>\n",
              "    </tr>\n",
              "  </tbody>\n",
              "</table>\n",
              "</div>"
            ],
            "text/plain": [
              "   radio  sales\n",
              "1   37.8   22.1\n",
              "2   39.3   10.4\n",
              "3   45.9    9.3\n",
              "4   41.3   18.5\n",
              "5   10.8   12.9"
            ]
          },
          "metadata": {
            "tags": []
          },
          "execution_count": 3
        }
      ]
    },
    {
      "cell_type": "code",
      "metadata": {
        "colab": {
          "base_uri": "https://localhost:8080/",
          "height": 295
        },
        "id": "jCggS1y69_Es",
        "outputId": "4b268ef6-6f7e-401b-eb88-55d6ae029209"
      },
      "source": [
        "# Let visualize the aspect training data points on plot\n",
        "# plot radio vs. sales\n",
        "plt.plot(advertising['radio'], advertising['sales'], 'b.')\n",
        "plt.title(\"radio vs. sales\")\n",
        "plt.xlabel(\"radio budget\")\n",
        "plt.ylabel(\"Sales Revenue\")\n",
        "plt.savefig(\"radiovsSales.png\")\n",
        "plt.show() "
      ],
      "execution_count": 4,
      "outputs": [
        {
          "output_type": "display_data",
          "data": {
            "image/png": "[encoded data removed]",
            "text/plain": [
              "<Figure size 432x288 with 1 Axes>"
            ]
          },
          "metadata": {
            "tags": [],
            "needs_background": "light"
          }
        }
      ]
    },
    {
      "cell_type": "code",
      "metadata": {
        "colab": {
          "base_uri": "https://localhost:8080/"
        },
        "id": "UHdVrudd_EUJ",
        "outputId": "15be89cd-bd71-4250-afd5-58aef2e6e67a"
      },
      "source": [
        "# The relation between X and Y in linear regression is: Y≈f(X)=β0+β1X. where β0 and β1 are parameters\n",
        "# Let train a linear regression model using sklearn between radio and sales\n",
        "from sklearn.linear_model import LinearRegression\n",
        "model_lr = LinearRegression()\n",
        "model_lr.fit(data[['radio']], data[['sales']])"
      ],
      "execution_count": 5,
      "outputs": [
        {
          "output_type": "execute_result",
          "data": {
            "text/plain": [
              "LinearRegression(copy_X=True, fit_intercept=True, n_jobs=None, normalize=False)"
            ]
          },
          "metadata": {
            "tags": []
          },
          "execution_count": 5
        }
      ]
    },
    {
      "cell_type": "code",
      "metadata": {
        "colab": {
          "base_uri": "https://localhost:8080/"
        },
        "id": "5JyAkCWaAcSD",
        "outputId": "473ff9e4-76f2-4636-9229-750d8db9c753"
      },
      "source": [
        "# Let calculate those parameters' values\n",
        "print(model_lr.coef_)\n",
        "print(model_lr.intercept_)"
      ],
      "execution_count": 6,
      "outputs": [
        {
          "output_type": "stream",
          "text": [
            "[[0.20249578]]\n",
            "[9.3116381]\n"
          ],
          "name": "stdout"
        }
      ]
    },
    {
      "cell_type": "markdown",
      "metadata": {
        "id": "auj5qIqGBHit"
      },
      "source": [
        "2. Display the regression line with the training data points."
      ]
    },
    {
      "cell_type": "code",
      "metadata": {
        "colab": {
          "base_uri": "https://localhost:8080/",
          "height": 282
        },
        "id": "EIS60eqnBJiF",
        "outputId": "91b4a001-d343-4f5a-a652-4e4e0f50a197"
      },
      "source": [
        "# Regression line and training data point \n",
        "m = model_lr.coef_[0, 0]   # slope\n",
        "b = model_lr.intercept_[0] # y-intercept\n",
        "\n",
        "plt.plot(data['radio'], data['sales'], 'b.')\n",
        "x_coordinates = np.array([0,50])\n",
        "y_coordinates = x_coordinates * m + b\n",
        "plt.plot(x_coordinates, y_coordinates, 'g-')"
      ],
      "execution_count": 7,
      "outputs": [
        {
          "output_type": "execute_result",
          "data": {
            "text/plain": [
              "[<matplotlib.lines.Line2D at 0x7f309fcabc10>]"
            ]
          },
          "metadata": {
            "tags": []
          },
          "execution_count": 7
        },
        {
          "output_type": "display_data",
          "data": {
            "image/png": "[encoded data removed]",
            "text/plain": [
              "<Figure size 432x288 with 1 Axes>"
            ]
          },
          "metadata": {
            "tags": [],
            "needs_background": "light"
          }
        }
      ]
    },
    {
      "cell_type": "markdown",
      "metadata": {
        "id": "CBWs2SlyCy5g"
      },
      "source": [
        "3. Use `sklearn` to build the same model. Verify that the parameters values are the same as those from the normal equation."
      ]
    },
    {
      "cell_type": "code",
      "metadata": {
        "colab": {
          "base_uri": "https://localhost:8080/"
        },
        "id": "2scoAwNZC1BW",
        "outputId": "f9113fb3-d81f-46c3-f38e-189c31192f36"
      },
      "source": [
        "# Let calculate the squared error of those parameters\n",
        "beta0 = 9.31\n",
        "beta1 = 0.20\n",
        "#i = 1\n",
        "x1 = data.loc[1, 'radio'] # 37.8\n",
        "y1 = data.loc[1, 'sales'] #22.1\n",
        "print(\"x1, y1:\", x1, y1)\n",
        "\n",
        "# Calculate f(x1) = beta0 + beta1 * x1\n",
        "prediction1 = beta0 + beta1 * x1\n",
        "print(\"Prediction on Record 1:\", prediction1)\n",
        "\n",
        "# Calculate the squared error (y1 - f(x1)) ** 2\n",
        "error1 = (y1 - prediction1) ** 2\n",
        "print(\"Squared error on Record 1:\", error1)"
      ],
      "execution_count": 8,
      "outputs": [
        {
          "output_type": "stream",
          "text": [
            "x1, y1: 37.8 22.1\n",
            "Prediction on Record 1: 16.87\n",
            "Squared error on Record 1: 27.352900000000005\n"
          ],
          "name": "stdout"
        }
      ]
    },
    {
      "cell_type": "code",
      "metadata": {
        "id": "0SmuFiJzImcu"
      },
      "source": [
        "# Let create a function that calculate the squared error of all index\n",
        "def get_squared_error (beta0, beta1, data, i):\n",
        "\n",
        "  x = data.loc[i, 'radio']\n",
        "  y = data.loc[i, 'sales']\n",
        "  prediction = beta0 + beta1 * x\n",
        "  squared_error = (y - prediction)**2\n",
        "\n",
        "  return squared_error"
      ],
      "execution_count": 9,
      "outputs": []
    },
    {
      "cell_type": "code",
      "metadata": {
        "colab": {
          "base_uri": "https://localhost:8080/"
        },
        "id": "h6Nt1yRsJuxF",
        "outputId": "03a05a94-cd4e-4437-b51b-b4e155bfbf37"
      },
      "source": [
        "# Let calculate the list of all errors\n",
        "list_errors = [get_squared_error(beta0, beta1, data, i) for i in data.index]\n",
        "print(list_errors)"
      ],
      "execution_count": 10,
      "outputs": [
        {
          "output_type": "stream",
          "text": [
            "[27.352900000000005, 45.832900000000016, 84.45610000000002, 0.8648999999999994, 2.0448999999999993, 141.3721000000001, 16.5649, 0.0009000000000000682, 24.304900000000007, 0.5928999999999993, 3.4969000000000037, 10.824099999999982, 50.836900000000036, 1.2769000000000017, 9.672099999999997, 12.60249999999998, 17.05690000000002, 51.408899999999974, 4.452099999999998, 0.2600999999999998, 9.92249999999999, 4.7089, 47.472100000000005, 7.896099999999993, 4.536900000000004, 3.960100000000001, 0.02890000000000058, 10.5625, 17.388899999999985, 4.040100000000006, 41.344899999999974, 0.792100000000001, 0.00010000000000003127, 16.728099999999984, 0.008099999999999975, 7.1289, 53.728899999999975, 20.160100000000018, 20.702500000000008, 21.622499999999988, 8.008900000000011, 1.2321000000000026, 34.222499999999975, 3.6481000000000003, 35.40250000000001, 1.1880999999999997, 0.47610000000000174, 31.248099999999997, 5.4289000000000005, 3.802500000000004, 2.160900000000002, 0.2809000000000012, 24.502499999999994, 7.022499999999993, 26.31689999999999, 20.340099999999982, 88.92490000000002, 0.0024999999999998934, 20.88489999999997, 10.176099999999986, 2.592100000000004, 40.32249999999997, 10.824099999999994, 1.512900000000001, 0.01689999999999974, 3.4969000000000037, 22.372900000000005, 1.4160999999999988, 16.728099999999984, 17.724100000000007, 8.236899999999995, 0.05289999999999938, 50.55209999999999, 0.3024999999999988, 7.672899999999998, 87.42250000000003, 7.452900000000002, 0.6561000000000037, 99.80010000000004, 0.022499999999999572, 8.122499999999999, 4.7089, 4.284900000000001, 21.252100000000013, 14.364099999999993, 4.884099999999996, 7.896100000000003, 2.0448999999999993, 2.2800999999999996, 4.708900000000007, 0.8280999999999971, 5.336100000000006, 11.49209999999998, 31.248099999999997, 0.3721000000000015, 1.6128999999999944, 2.8560999999999983, 3.960099999999994, 58.21689999999999, 0.20250000000000257, 2.340899999999998, 52.27290000000001, 12.040900000000004, 3.802499999999997, 20.52089999999998, 0.3720999999999993, 18.57610000000001, 0.4489000000000023, 16.728100000000005, 26.112099999999995, 6.002499999999997, 23.912100000000006, 2.924099999999997, 6.100900000000003, 16.564900000000016, 13.764100000000019, 0.000899999999999855, 0.00490000000000004, 0.6241000000000014, 34.92810000000002, 0.6888999999999972, 44.222500000000004, 3.2760999999999956, 1.0609000000000024, 15.444899999999997, 1.1449000000000045, 110.04010000000001, 0.2600999999999998, 31.248099999999997, 4.040100000000006, 244.29690000000002, 7.896099999999993, 81.90250000000002, 12.8881, 38.812900000000006, 50.55210000000002, 57.91209999999999, 32.60410000000001, 23.912100000000006, 6.812099999999997, 3.276100000000002, 7.896099999999993, 17.222500000000004, 0.002500000000000071, 0.7569000000000017, 0.3720999999999993, 5.904899999999999, 39.56409999999999, 41.86090000000001, 19.09690000000001, 16.080100000000012, 0.3720999999999993, 6.9169000000000045, 3.0625, 4.284899999999994, 71.0649, 7.3441000000000045, 0.2808999999999993, 88.17210000000001, 0.008099999999999975, 2.1608999999999967, 10.048899999999989, 3.8808999999999956, 1.7688999999999955, 0.12249999999999975, 3.6481000000000003, 77.96890000000003, 3.4224999999999923, 9.424900000000001, 12.744900000000001, 10.432900000000004, 1.0200999999999996, 32.83290000000002, 0.9408999999999978, 2.2800999999999996, 62.568099999999944, 23.52249999999998, 0.6888999999999972, 4.120900000000004, 1.6640999999999977, 0.4488999999999999, 3.2760999999999956, 3.062500000000006, 68.72409999999999, 16.24090000000001, 18.232899999999997, 0.3249000000000003, 5.0625, 14.516100000000003, 25.300900000000002, 45.2929, 2.464900000000001, 17.892900000000004, 3.572100000000002, 0.7569000000000017, 6.002500000000005, 0.3481000000000019, 2.6568999999999967, 60.68409999999999, 5.616899999999997]\n"
          ],
          "name": "stdout"
        }
      ]
    },
    {
      "cell_type": "code",
      "metadata": {
        "colab": {
          "base_uri": "https://localhost:8080/"
        },
        "id": "0XWNpE2ER4mF",
        "outputId": "b9058931-78a9-4432-f341-06714ca5264c"
      },
      "source": [
        "# Calculate the MSE\n",
        "MSE = np.mean(list_errors)\n",
        "print(\"MSE:\", MSE)"
      ],
      "execution_count": 11,
      "outputs": [
        {
          "output_type": "stream",
          "text": [
            "MSE: 18.097328\n"
          ],
          "name": "stdout"
        }
      ]
    },
    {
      "cell_type": "code",
      "metadata": {
        "colab": {
          "base_uri": "https://localhost:8080/"
        },
        "id": "dHhH6bjnN0GQ",
        "outputId": "cc1cf073-69ae-4ed2-904e-fc18059338c3"
      },
      "source": [
        "# Construct X and Y as numpy arrays\n",
        "X = np.hstack([np.ones([len(data), 1]), data[['radio']].values])\n",
        "# print(X)\n",
        "y = data[['sales']].values\n",
        "# print(y)\n",
        "\n",
        "beta = np.linalg.inv(X.T.dot(X)).dot(X.T).dot(y)\n",
        "print(beta)"
      ],
      "execution_count": 12,
      "outputs": [
        {
          "output_type": "stream",
          "text": [
            "[[9.3116381 ]\n",
            " [0.20249578]]\n"
          ],
          "name": "stdout"
        }
      ]
    },
    {
      "cell_type": "code",
      "metadata": {
        "id": "DR4R5YPySKn6"
      },
      "source": [
        "# In conclusion we can see the the parameters are the same\n",
        "beta0 = 9.31\n",
        "beta1 = 0.20"
      ],
      "execution_count": 13,
      "outputs": []
    }
  ]
}