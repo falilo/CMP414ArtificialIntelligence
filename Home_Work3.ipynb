{
  "nbformat": 4,
  "nbformat_minor": 0,
  "metadata": {
    "colab": {
      "name": "Home Work3.ipynb",
      "provenance": [],
      "collapsed_sections": [],
      "authorship_tag": "ABX9TyMOdsbpV0sdeq//71D0XF+7",
      "include_colab_link": true
    },
    "kernelspec": {
      "name": "python3",
      "display_name": "Python 3"
    }
  },
  "cells": [
    {
      "cell_type": "markdown",
      "metadata": {
        "id": "view-in-github",
        "colab_type": "text"
      },
      "source": [
        "<a href=\"https://colab.research.google.com/github/falilo/CMP414ArtificialIntelligence/blob/main/Home_Work3.ipynb\" target=\"_parent\"><img src=\"https://colab.research.google.com/assets/colab-badge.svg\" alt=\"Open In Colab\"/></a>"
      ]
    },
    {
      "cell_type": "code",
      "metadata": {
        "id": "p8U47RPBacQu"
      },
      "source": [
        "import numpy as np\n",
        "import pandas as pd\n",
        "import matplotlib.pyplot as plt\n",
        "%matplotlib inline"
      ],
      "execution_count": null,
      "outputs": []
    },
    {
      "cell_type": "markdown",
      "metadata": {
        "id": "K6OxYwdwbwO6"
      },
      "source": [
        "1. Load the data as a Pandas data frame."
      ]
    },
    {
      "cell_type": "code",
      "metadata": {
        "colab": {
          "base_uri": "https://localhost:8080/",
          "height": 204
        },
        "id": "tnOkgEpgbARx",
        "outputId": "13c13877-e647-472d-a026-e44b6174c6b5"
      },
      "source": [
        "# Load of the data\n",
        "url = \"https://raw.githubusercontent.com/empathy87/The-Elements-of-Statistical-Learning-Python-Notebooks/master/data/mixture.txt\"\n",
        "raw_data = pd.read_csv(url, sep=',')\n",
        "raw_data.head()"
      ],
      "execution_count": null,
      "outputs": [
        {
          "output_type": "execute_result",
          "data": {
            "text/html": [
              "<div>\n",
              "<style scoped>\n",
              "    .dataframe tbody tr th:only-of-type {\n",
              "        vertical-align: middle;\n",
              "    }\n",
              "\n",
              "    .dataframe tbody tr th {\n",
              "        vertical-align: top;\n",
              "    }\n",
              "\n",
              "    .dataframe thead th {\n",
              "        text-align: right;\n",
              "    }\n",
              "</style>\n",
              "<table border=\"1\" class=\"dataframe\">\n",
              "  <thead>\n",
              "    <tr style=\"text-align: right;\">\n",
              "      <th></th>\n",
              "      <th>x1</th>\n",
              "      <th>x2</th>\n",
              "      <th>y</th>\n",
              "    </tr>\n",
              "  </thead>\n",
              "  <tbody>\n",
              "    <tr>\n",
              "      <th>0</th>\n",
              "      <td>2.526093</td>\n",
              "      <td>0.321050</td>\n",
              "      <td>0</td>\n",
              "    </tr>\n",
              "    <tr>\n",
              "      <th>1</th>\n",
              "      <td>0.366954</td>\n",
              "      <td>0.031462</td>\n",
              "      <td>0</td>\n",
              "    </tr>\n",
              "    <tr>\n",
              "      <th>2</th>\n",
              "      <td>0.768219</td>\n",
              "      <td>0.717486</td>\n",
              "      <td>0</td>\n",
              "    </tr>\n",
              "    <tr>\n",
              "      <th>3</th>\n",
              "      <td>0.693436</td>\n",
              "      <td>0.777194</td>\n",
              "      <td>0</td>\n",
              "    </tr>\n",
              "    <tr>\n",
              "      <th>4</th>\n",
              "      <td>-0.019837</td>\n",
              "      <td>0.867254</td>\n",
              "      <td>0</td>\n",
              "    </tr>\n",
              "  </tbody>\n",
              "</table>\n",
              "</div>"
            ],
            "text/plain": [
              "         x1        x2  y\n",
              "0  2.526093  0.321050  0\n",
              "1  0.366954  0.031462  0\n",
              "2  0.768219  0.717486  0\n",
              "3  0.693436  0.777194  0\n",
              "4 -0.019837  0.867254  0"
            ]
          },
          "metadata": {
            "tags": []
          },
          "execution_count": 2
        }
      ]
    },
    {
      "cell_type": "markdown",
      "metadata": {
        "id": "_Bh3CcojdT45"
      },
      "source": [
        "2. Split the data into 80% training data and 20% test data."
      ]
    },
    {
      "cell_type": "code",
      "metadata": {
        "id": "80qWOT6sdZMz"
      },
      "source": [
        "# Let split the data \n",
        "from sklearn.model_selection import train_test_split\n",
        "training_data, test_data = train_test_split(raw_data, test_size=0.2)"
      ],
      "execution_count": null,
      "outputs": []
    },
    {
      "cell_type": "code",
      "metadata": {
        "colab": {
          "base_uri": "https://localhost:8080/"
        },
        "id": "e4uNVpQzgtOX",
        "outputId": "a595d7b7-b1bd-4d44-87dc-497e388d89ad"
      },
      "source": [
        "# Let display the shape of training data\n",
        "training_data.shape"
      ],
      "execution_count": null,
      "outputs": [
        {
          "output_type": "execute_result",
          "data": {
            "text/plain": [
              "(160, 3)"
            ]
          },
          "metadata": {
            "tags": []
          },
          "execution_count": 4
        }
      ]
    },
    {
      "cell_type": "code",
      "metadata": {
        "colab": {
          "base_uri": "https://localhost:8080/"
        },
        "id": "kSJ78vrkhLeX",
        "outputId": "3559f400-0933-451a-e60c-12488a36e296"
      },
      "source": [
        "# Let display the shape of test data\n",
        "test_data.shape"
      ],
      "execution_count": null,
      "outputs": [
        {
          "output_type": "execute_result",
          "data": {
            "text/plain": [
              "(40, 3)"
            ]
          },
          "metadata": {
            "tags": []
          },
          "execution_count": 5
        }
      ]
    },
    {
      "cell_type": "markdown",
      "metadata": {
        "id": "JHHF8BH7kYSk"
      },
      "source": [
        "3. Build three k-nearest-neighbor model with k = 1, 5, 25, respectively."
      ]
    },
    {
      "cell_type": "code",
      "metadata": {
        "colab": {
          "base_uri": "https://localhost:8080/"
        },
        "id": "STmnoMjmkcSj",
        "outputId": "00f5fd40-6145-4dd9-d6ae-031d734139f4"
      },
      "source": [
        "# kNN model\n",
        "# Let built k-nearest-neighbor model with k = 1\n",
        "\n",
        "from sklearn.neighbors import KNeighborsClassifier\n",
        "model_1nn = KNeighborsClassifier(n_neighbors=1)\n",
        "model_1nn.fit(raw_data[['x1', 'x2']], raw_data['y'])"
      ],
      "execution_count": null,
      "outputs": [
        {
          "output_type": "execute_result",
          "data": {
            "text/plain": [
              "KNeighborsClassifier(algorithm='auto', leaf_size=30, metric='minkowski',\n",
              "                     metric_params=None, n_jobs=None, n_neighbors=1, p=2,\n",
              "                     weights='uniform')"
            ]
          },
          "metadata": {
            "tags": []
          },
          "execution_count": 6
        }
      ]
    },
    {
      "cell_type": "code",
      "metadata": {
        "colab": {
          "base_uri": "https://localhost:8080/"
        },
        "id": "qgzjBTdphGJB",
        "outputId": "333f1e6d-7cf3-4e7e-82d7-a92644952d1c"
      },
      "source": [
        "# Let built k-nearest-neighbor model with k = 5\n",
        "\n",
        "from sklearn.neighbors import KNeighborsClassifier\n",
        "model_5nn = KNeighborsClassifier(n_neighbors=5)\n",
        "model_5nn.fit(raw_data[['x1', 'x2']], raw_data['y'])"
      ],
      "execution_count": null,
      "outputs": [
        {
          "output_type": "execute_result",
          "data": {
            "text/plain": [
              "KNeighborsClassifier(algorithm='auto', leaf_size=30, metric='minkowski',\n",
              "                     metric_params=None, n_jobs=None, n_neighbors=5, p=2,\n",
              "                     weights='uniform')"
            ]
          },
          "metadata": {
            "tags": []
          },
          "execution_count": 7
        }
      ]
    },
    {
      "cell_type": "code",
      "metadata": {
        "colab": {
          "base_uri": "https://localhost:8080/"
        },
        "id": "VGJjkgEtrFeW",
        "outputId": "4d5d270a-aa36-401d-caf8-f5a037eb5a5c"
      },
      "source": [
        "# Let built k-nearest-neighbor model with k = 25\n",
        "\n",
        "from sklearn.neighbors import KNeighborsClassifier\n",
        "model_25nn = KNeighborsClassifier(n_neighbors=25)\n",
        "model_25nn.fit(raw_data[['x1', 'x2']], raw_data['y'])"
      ],
      "execution_count": null,
      "outputs": [
        {
          "output_type": "execute_result",
          "data": {
            "text/plain": [
              "KNeighborsClassifier(algorithm='auto', leaf_size=30, metric='minkowski',\n",
              "                     metric_params=None, n_jobs=None, n_neighbors=25, p=2,\n",
              "                     weights='uniform')"
            ]
          },
          "metadata": {
            "tags": []
          },
          "execution_count": 8
        }
      ]
    },
    {
      "cell_type": "markdown",
      "metadata": {
        "id": "3lwTO5xas8Oq"
      },
      "source": [
        "4. Train the models on the training set, and obtain the model predictions on the test set."
      ]
    },
    {
      "cell_type": "code",
      "metadata": {
        "id": "udnFfxkv1Olg"
      },
      "source": [
        "# train_test_split\n",
        "\n",
        "train_test_split, test_data = train_test_split(raw_data, test_size = 0.2)"
      ],
      "execution_count": null,
      "outputs": []
    },
    {
      "cell_type": "code",
      "metadata": {
        "colab": {
          "base_uri": "https://localhost:8080/"
        },
        "id": "Bp8T-xsWs4Oc",
        "outputId": "8e8a1d2e-d670-4fb8-dff3-1b1effbb78fa"
      },
      "source": [
        "# Train the k-nearest-neighbor model on the training set with k = 1\n",
        "\n",
        "model_1nn_train = KNeighborsClassifier(n_neighbors=1)\n",
        "input_cols = ['x1', 'x2']\n",
        "model_1nn_train.fit(training_data[input_cols], training_data['y'])"
      ],
      "execution_count": null,
      "outputs": [
        {
          "output_type": "execute_result",
          "data": {
            "text/plain": [
              "KNeighborsClassifier(algorithm='auto', leaf_size=30, metric='minkowski',\n",
              "                     metric_params=None, n_jobs=None, n_neighbors=1, p=2,\n",
              "                     weights='uniform')"
            ]
          },
          "metadata": {
            "tags": []
          },
          "execution_count": 10
        }
      ]
    },
    {
      "cell_type": "code",
      "metadata": {
        "colab": {
          "base_uri": "https://localhost:8080/",
          "height": 306
        },
        "id": "4nQj9Zaa1us1",
        "outputId": "d8bb5a74-45ce-4220-db7d-ced39060e0e5"
      },
      "source": [
        "# Let find the model's predictions on the test set for k = 1\n",
        "\n",
        "test_data['prediction'] = model_1nn_train.predict(test_data[input_cols])\n",
        "test_data.head() "
      ],
      "execution_count": null,
      "outputs": [
        {
          "output_type": "stream",
          "text": [
            "/usr/local/lib/python3.7/dist-packages/ipykernel_launcher.py:3: SettingWithCopyWarning: \n",
            "A value is trying to be set on a copy of a slice from a DataFrame.\n",
            "Try using .loc[row_indexer,col_indexer] = value instead\n",
            "\n",
            "See the caveats in the documentation: https://pandas.pydata.org/pandas-docs/stable/user_guide/indexing.html#returning-a-view-versus-a-copy\n",
            "  This is separate from the ipykernel package so we can avoid doing imports until\n"
          ],
          "name": "stderr"
        },
        {
          "output_type": "execute_result",
          "data": {
            "text/html": [
              "<div>\n",
              "<style scoped>\n",
              "    .dataframe tbody tr th:only-of-type {\n",
              "        vertical-align: middle;\n",
              "    }\n",
              "\n",
              "    .dataframe tbody tr th {\n",
              "        vertical-align: top;\n",
              "    }\n",
              "\n",
              "    .dataframe thead th {\n",
              "        text-align: right;\n",
              "    }\n",
              "</style>\n",
              "<table border=\"1\" class=\"dataframe\">\n",
              "  <thead>\n",
              "    <tr style=\"text-align: right;\">\n",
              "      <th></th>\n",
              "      <th>x1</th>\n",
              "      <th>x2</th>\n",
              "      <th>y</th>\n",
              "      <th>prediction</th>\n",
              "    </tr>\n",
              "  </thead>\n",
              "  <tbody>\n",
              "    <tr>\n",
              "      <th>12</th>\n",
              "      <td>2.490979</td>\n",
              "      <td>1.148315</td>\n",
              "      <td>0</td>\n",
              "      <td>0</td>\n",
              "    </tr>\n",
              "    <tr>\n",
              "      <th>173</th>\n",
              "      <td>1.945429</td>\n",
              "      <td>0.481080</td>\n",
              "      <td>1</td>\n",
              "      <td>1</td>\n",
              "    </tr>\n",
              "    <tr>\n",
              "      <th>8</th>\n",
              "      <td>2.499843</td>\n",
              "      <td>-0.418278</td>\n",
              "      <td>0</td>\n",
              "      <td>0</td>\n",
              "    </tr>\n",
              "    <tr>\n",
              "      <th>90</th>\n",
              "      <td>0.066332</td>\n",
              "      <td>1.580805</td>\n",
              "      <td>0</td>\n",
              "      <td>0</td>\n",
              "    </tr>\n",
              "    <tr>\n",
              "      <th>188</th>\n",
              "      <td>3.560613</td>\n",
              "      <td>1.398989</td>\n",
              "      <td>1</td>\n",
              "      <td>1</td>\n",
              "    </tr>\n",
              "  </tbody>\n",
              "</table>\n",
              "</div>"
            ],
            "text/plain": [
              "           x1        x2  y  prediction\n",
              "12   2.490979  1.148315  0           0\n",
              "173  1.945429  0.481080  1           1\n",
              "8    2.499843 -0.418278  0           0\n",
              "90   0.066332  1.580805  0           0\n",
              "188  3.560613  1.398989  1           1"
            ]
          },
          "metadata": {
            "tags": []
          },
          "execution_count": 11
        }
      ]
    },
    {
      "cell_type": "code",
      "metadata": {
        "colab": {
          "base_uri": "https://localhost:8080/"
        },
        "id": "CsjaePRmYQsn",
        "outputId": "c34fce1a-b6d2-4b76-e566-e36cf8ebaef7"
      },
      "source": [
        "# Accuracy.score() with k = 1\n",
        "\n",
        "from sklearn.metrics import accuracy_score\n",
        "accuracy_score(test_data['y'], test_data['prediction'])"
      ],
      "execution_count": null,
      "outputs": [
        {
          "output_type": "execute_result",
          "data": {
            "text/plain": [
              "0.975"
            ]
          },
          "metadata": {
            "tags": []
          },
          "execution_count": 12
        }
      ]
    },
    {
      "cell_type": "code",
      "metadata": {
        "colab": {
          "base_uri": "https://localhost:8080/"
        },
        "id": "YyxIYnHb2X4I",
        "outputId": "555fb4a0-83dc-4a18-ef74-66a6eb728577"
      },
      "source": [
        "# Train the k-nearest-neighbor model on the training set with k = 5\n",
        "\n",
        "model_5nn_train = KNeighborsClassifier(n_neighbors=5)\n",
        "input_cols = ['x1', 'x2']\n",
        "model_5nn_train.fit(training_data[input_cols], training_data['y'])"
      ],
      "execution_count": null,
      "outputs": [
        {
          "output_type": "execute_result",
          "data": {
            "text/plain": [
              "KNeighborsClassifier(algorithm='auto', leaf_size=30, metric='minkowski',\n",
              "                     metric_params=None, n_jobs=None, n_neighbors=5, p=2,\n",
              "                     weights='uniform')"
            ]
          },
          "metadata": {
            "tags": []
          },
          "execution_count": 13
        }
      ]
    },
    {
      "cell_type": "code",
      "metadata": {
        "colab": {
          "base_uri": "https://localhost:8080/",
          "height": 306
        },
        "id": "FyJ_AGUF2n18",
        "outputId": "82aa3f3b-966d-4671-c465-8d99422d7840"
      },
      "source": [
        "# Find the model's predictions on the test set for k = 5\n",
        "\n",
        "test_data['prediction'] = model_5nn_train.predict(test_data[input_cols])\n",
        "test_data.head() "
      ],
      "execution_count": null,
      "outputs": [
        {
          "output_type": "stream",
          "text": [
            "/usr/local/lib/python3.7/dist-packages/ipykernel_launcher.py:3: SettingWithCopyWarning: \n",
            "A value is trying to be set on a copy of a slice from a DataFrame.\n",
            "Try using .loc[row_indexer,col_indexer] = value instead\n",
            "\n",
            "See the caveats in the documentation: https://pandas.pydata.org/pandas-docs/stable/user_guide/indexing.html#returning-a-view-versus-a-copy\n",
            "  This is separate from the ipykernel package so we can avoid doing imports until\n"
          ],
          "name": "stderr"
        },
        {
          "output_type": "execute_result",
          "data": {
            "text/html": [
              "<div>\n",
              "<style scoped>\n",
              "    .dataframe tbody tr th:only-of-type {\n",
              "        vertical-align: middle;\n",
              "    }\n",
              "\n",
              "    .dataframe tbody tr th {\n",
              "        vertical-align: top;\n",
              "    }\n",
              "\n",
              "    .dataframe thead th {\n",
              "        text-align: right;\n",
              "    }\n",
              "</style>\n",
              "<table border=\"1\" class=\"dataframe\">\n",
              "  <thead>\n",
              "    <tr style=\"text-align: right;\">\n",
              "      <th></th>\n",
              "      <th>x1</th>\n",
              "      <th>x2</th>\n",
              "      <th>y</th>\n",
              "      <th>prediction</th>\n",
              "    </tr>\n",
              "  </thead>\n",
              "  <tbody>\n",
              "    <tr>\n",
              "      <th>12</th>\n",
              "      <td>2.490979</td>\n",
              "      <td>1.148315</td>\n",
              "      <td>0</td>\n",
              "      <td>0</td>\n",
              "    </tr>\n",
              "    <tr>\n",
              "      <th>173</th>\n",
              "      <td>1.945429</td>\n",
              "      <td>0.481080</td>\n",
              "      <td>1</td>\n",
              "      <td>1</td>\n",
              "    </tr>\n",
              "    <tr>\n",
              "      <th>8</th>\n",
              "      <td>2.499843</td>\n",
              "      <td>-0.418278</td>\n",
              "      <td>0</td>\n",
              "      <td>0</td>\n",
              "    </tr>\n",
              "    <tr>\n",
              "      <th>90</th>\n",
              "      <td>0.066332</td>\n",
              "      <td>1.580805</td>\n",
              "      <td>0</td>\n",
              "      <td>1</td>\n",
              "    </tr>\n",
              "    <tr>\n",
              "      <th>188</th>\n",
              "      <td>3.560613</td>\n",
              "      <td>1.398989</td>\n",
              "      <td>1</td>\n",
              "      <td>1</td>\n",
              "    </tr>\n",
              "  </tbody>\n",
              "</table>\n",
              "</div>"
            ],
            "text/plain": [
              "           x1        x2  y  prediction\n",
              "12   2.490979  1.148315  0           0\n",
              "173  1.945429  0.481080  1           1\n",
              "8    2.499843 -0.418278  0           0\n",
              "90   0.066332  1.580805  0           1\n",
              "188  3.560613  1.398989  1           1"
            ]
          },
          "metadata": {
            "tags": []
          },
          "execution_count": 14
        }
      ]
    },
    {
      "cell_type": "code",
      "metadata": {
        "colab": {
          "base_uri": "https://localhost:8080/"
        },
        "id": "Kro3qz4MY7UM",
        "outputId": "9d36dc1a-faef-498e-d9b3-301677050fca"
      },
      "source": [
        "# Accuracy.score() with k = 5\n",
        "\n",
        "from sklearn.metrics import accuracy_score\n",
        "accuracy_score(test_data['y'], test_data['prediction'])"
      ],
      "execution_count": null,
      "outputs": [
        {
          "output_type": "execute_result",
          "data": {
            "text/plain": [
              "0.85"
            ]
          },
          "metadata": {
            "tags": []
          },
          "execution_count": 15
        }
      ]
    },
    {
      "cell_type": "code",
      "metadata": {
        "colab": {
          "base_uri": "https://localhost:8080/"
        },
        "id": "rsk5U2JJ3tD8",
        "outputId": "04a78a5e-ec32-4bb1-94e2-45a4fec7817d"
      },
      "source": [
        "# Train the k-nearest-neighbor model on the training set with k = 25\n",
        "\n",
        "model_25nn_train = KNeighborsClassifier(n_neighbors=25)\n",
        "input_cols = ['x1', 'x2']\n",
        "model_25nn_train.fit(training_data[input_cols], training_data['y'])"
      ],
      "execution_count": null,
      "outputs": [
        {
          "output_type": "execute_result",
          "data": {
            "text/plain": [
              "KNeighborsClassifier(algorithm='auto', leaf_size=30, metric='minkowski',\n",
              "                     metric_params=None, n_jobs=None, n_neighbors=25, p=2,\n",
              "                     weights='uniform')"
            ]
          },
          "metadata": {
            "tags": []
          },
          "execution_count": 16
        }
      ]
    },
    {
      "cell_type": "code",
      "metadata": {
        "colab": {
          "base_uri": "https://localhost:8080/",
          "height": 306
        },
        "id": "FRxrw4Ev39cg",
        "outputId": "a3beccba-37a6-4ec7-e83e-079fc4d6252e"
      },
      "source": [
        "# Find the model's predictions on the test set for k = 25\n",
        "\n",
        "test_data['prediction'] = model_25nn_train.predict(test_data[input_cols])\n",
        "test_data.head() "
      ],
      "execution_count": null,
      "outputs": [
        {
          "output_type": "stream",
          "text": [
            "/usr/local/lib/python3.7/dist-packages/ipykernel_launcher.py:3: SettingWithCopyWarning: \n",
            "A value is trying to be set on a copy of a slice from a DataFrame.\n",
            "Try using .loc[row_indexer,col_indexer] = value instead\n",
            "\n",
            "See the caveats in the documentation: https://pandas.pydata.org/pandas-docs/stable/user_guide/indexing.html#returning-a-view-versus-a-copy\n",
            "  This is separate from the ipykernel package so we can avoid doing imports until\n"
          ],
          "name": "stderr"
        },
        {
          "output_type": "execute_result",
          "data": {
            "text/html": [
              "<div>\n",
              "<style scoped>\n",
              "    .dataframe tbody tr th:only-of-type {\n",
              "        vertical-align: middle;\n",
              "    }\n",
              "\n",
              "    .dataframe tbody tr th {\n",
              "        vertical-align: top;\n",
              "    }\n",
              "\n",
              "    .dataframe thead th {\n",
              "        text-align: right;\n",
              "    }\n",
              "</style>\n",
              "<table border=\"1\" class=\"dataframe\">\n",
              "  <thead>\n",
              "    <tr style=\"text-align: right;\">\n",
              "      <th></th>\n",
              "      <th>x1</th>\n",
              "      <th>x2</th>\n",
              "      <th>y</th>\n",
              "      <th>prediction</th>\n",
              "    </tr>\n",
              "  </thead>\n",
              "  <tbody>\n",
              "    <tr>\n",
              "      <th>12</th>\n",
              "      <td>2.490979</td>\n",
              "      <td>1.148315</td>\n",
              "      <td>0</td>\n",
              "      <td>0</td>\n",
              "    </tr>\n",
              "    <tr>\n",
              "      <th>173</th>\n",
              "      <td>1.945429</td>\n",
              "      <td>0.481080</td>\n",
              "      <td>1</td>\n",
              "      <td>1</td>\n",
              "    </tr>\n",
              "    <tr>\n",
              "      <th>8</th>\n",
              "      <td>2.499843</td>\n",
              "      <td>-0.418278</td>\n",
              "      <td>0</td>\n",
              "      <td>0</td>\n",
              "    </tr>\n",
              "    <tr>\n",
              "      <th>90</th>\n",
              "      <td>0.066332</td>\n",
              "      <td>1.580805</td>\n",
              "      <td>0</td>\n",
              "      <td>1</td>\n",
              "    </tr>\n",
              "    <tr>\n",
              "      <th>188</th>\n",
              "      <td>3.560613</td>\n",
              "      <td>1.398989</td>\n",
              "      <td>1</td>\n",
              "      <td>0</td>\n",
              "    </tr>\n",
              "  </tbody>\n",
              "</table>\n",
              "</div>"
            ],
            "text/plain": [
              "           x1        x2  y  prediction\n",
              "12   2.490979  1.148315  0           0\n",
              "173  1.945429  0.481080  1           1\n",
              "8    2.499843 -0.418278  0           0\n",
              "90   0.066332  1.580805  0           1\n",
              "188  3.560613  1.398989  1           0"
            ]
          },
          "metadata": {
            "tags": []
          },
          "execution_count": 17
        }
      ]
    },
    {
      "cell_type": "markdown",
      "metadata": {
        "id": "yGHk6GHy4jna"
      },
      "source": [
        "5. Calculate the test accuracy score for each model. Which k value give the best accuracy score?"
      ]
    },
    {
      "cell_type": "code",
      "metadata": {
        "id": "jnz9z38j4lob",
        "colab": {
          "base_uri": "https://localhost:8080/"
        },
        "outputId": "e2e9d6e9-a4a2-4621-c436-701acb233041"
      },
      "source": [
        "# Accuracy.score() with k = 25\n",
        "\n",
        "from sklearn.metrics import accuracy_score\n",
        "accuracy_score(test_data['y'], test_data['prediction'])"
      ],
      "execution_count": null,
      "outputs": [
        {
          "output_type": "execute_result",
          "data": {
            "text/plain": [
              "0.825"
            ]
          },
          "metadata": {
            "tags": []
          },
          "execution_count": 18
        }
      ]
    },
    {
      "cell_type": "markdown",
      "metadata": {
        "id": "_Whi2BOeZaCm"
      },
      "source": [
        "The accuracy score with k = 1 is : 0.975 \n",
        "\n",
        "The accuracy score with k = 5 is : 0.925\n",
        "\n",
        "The accuracy score with k = 25 is : 0.875\n",
        "\n",
        "So k = 1 gives the best accuracy score."
      ]
    }
  ]
}