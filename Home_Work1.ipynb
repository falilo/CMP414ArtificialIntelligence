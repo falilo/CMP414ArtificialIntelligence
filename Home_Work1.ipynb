{
  "nbformat": 4,
  "nbformat_minor": 0,
  "metadata": {
    "colab": {
      "name": "Home Work1.ipynb",
      "provenance": [],
      "collapsed_sections": [],
      "authorship_tag": "ABX9TyNGhE9oc4toyG+T4Q4kRqDK",
      "include_colab_link": true
    },
    "kernelspec": {
      "name": "python3",
      "display_name": "Python 3"
    }
  },
  "cells": [
    {
      "cell_type": "markdown",
      "metadata": {
        "id": "view-in-github",
        "colab_type": "text"
      },
      "source": [
        "<a href=\"https://colab.research.google.com/github/falilo/CMP414ArtificialIntelligence/blob/main/Home_Work1.ipynb\" target=\"_parent\"><img src=\"https://colab.research.google.com/assets/colab-badge.svg\" alt=\"Open In Colab\"/></a>"
      ]
    },
    {
      "cell_type": "markdown",
      "metadata": {
        "id": "BW3EgGJhF9gO"
      },
      "source": [
        ""
      ]
    },
    {
      "cell_type": "code",
      "metadata": {
        "id": "Sw8A7sKQ8Aom",
        "colab": {
          "base_uri": "https://localhost:8080/"
        },
        "outputId": "781eb754-4a1f-42df-a030-2875343840a7"
      },
      "source": [
        "# I\n",
        "# During 1900 - 1910 the average percentage of heigth has increased:\n",
        "avg1 = (172.1 - 170)/170 * 100\n",
        "print(\"1900-1910:\" \" %5.3f\" % avg1 + \"%\")"
      ],
      "execution_count": 2,
      "outputs": [
        {
          "output_type": "stream",
          "text": [
            "1900-1910: 1.235%\n"
          ],
          "name": "stdout"
        }
      ]
    },
    {
      "cell_type": "code",
      "metadata": {
        "colab": {
          "base_uri": "https://localhost:8080/"
        },
        "id": "-stGDnNDK2UQ",
        "outputId": "855d68c5-d20f-46d8-8170-3499c444aba6"
      },
      "source": [
        "# During 1910 - 1920 the average percentage of height has increased:\n",
        "avg2 = (173.1 - 172.1)/172.1 * 100\n",
        "print(\"1910-1920 :\" \" %5.3f\" % avg2 + \"%\")"
      ],
      "execution_count": 3,
      "outputs": [
        {
          "output_type": "stream",
          "text": [
            "1910-1920 : 0.581%\n"
          ],
          "name": "stdout"
        }
      ]
    },
    {
      "cell_type": "code",
      "metadata": {
        "colab": {
          "base_uri": "https://localhost:8080/"
        },
        "id": "zOF70w0dL_V5",
        "outputId": "daa65a82-82dd-4b2f-c7c4-ebff9af8d120"
      },
      "source": [
        "# During 1920 - 1930 the average percentage of height has increased:\n",
        "avg3 = (173.4 - 173.1)/173.1 * 100\n",
        "print(\"1920-1930:\" \" %5.3f\" % avg3 + \"%\")"
      ],
      "execution_count": 4,
      "outputs": [
        {
          "output_type": "stream",
          "text": [
            "1920-1930: 0.173%\n"
          ],
          "name": "stdout"
        }
      ]
    },
    {
      "cell_type": "code",
      "metadata": {
        "colab": {
          "base_uri": "https://localhost:8080/"
        },
        "id": "yAmWuEBzMdfi",
        "outputId": "b3afb229-d5cf-4648-9cb3-5fe91161c519"
      },
      "source": [
        "# During 1930 - 1940 the average percentage of height has increased:\n",
        "avg4 = (176.1 - 173.4)/173.4 * 100\n",
        "print(\"1930-1940:\" \" %5.3f\" % avg4 + \"%\")"
      ],
      "execution_count": 5,
      "outputs": [
        {
          "output_type": "stream",
          "text": [
            "1930-1940: 1.557%\n"
          ],
          "name": "stdout"
        }
      ]
    },
    {
      "cell_type": "code",
      "metadata": {
        "colab": {
          "base_uri": "https://localhost:8080/"
        },
        "id": "1rdaPVbXNeUy",
        "outputId": "941d2cc4-702a-4593-9372-3905a1ec224e"
      },
      "source": [
        "# During 1940 - 1950 the average percentage of height has increased:\n",
        "avg5 = (177.1 - 176.1)/176.1 * 100\n",
        "print(\"1940-1950:\" \" %5.3f\" % avg5 + \"%\")"
      ],
      "execution_count": 6,
      "outputs": [
        {
          "output_type": "stream",
          "text": [
            "1940-1950: 0.568%\n"
          ],
          "name": "stdout"
        }
      ]
    },
    {
      "cell_type": "code",
      "metadata": {
        "colab": {
          "base_uri": "https://localhost:8080/"
        },
        "id": "Y2HDWFSYOSyj",
        "outputId": "2e27db8b-992b-4f06-da53-56c25538a866"
      },
      "source": [
        "# During 1950 - 1960 the average percentage of height has increased:\n",
        "avg6 = (177.3 - 177.1)/177.1 * 100\n",
        "print(\"1950-1960:\" \" %5.3f\" % avg6 + \"%\")"
      ],
      "execution_count": 7,
      "outputs": [
        {
          "output_type": "stream",
          "text": [
            "1950-1960: 0.113%\n"
          ],
          "name": "stdout"
        }
      ]
    },
    {
      "cell_type": "code",
      "metadata": {
        "colab": {
          "base_uri": "https://localhost:8080/"
        },
        "id": "QveROTHqPbH-",
        "outputId": "986cae27-eb6c-4c17-d187-cbe38b74fbd7"
      },
      "source": [
        "# During 1960 - 1970 the average percentage of height has increased:\n",
        "avg7 = (178.3 - 177.3)/177.3 * 100\n",
        "print(\"1960-1970:\" \" %5.3f\" % avg7 + \"%\")"
      ],
      "execution_count": 8,
      "outputs": [
        {
          "output_type": "stream",
          "text": [
            "1960-1970: 0.564%\n"
          ],
          "name": "stdout"
        }
      ]
    },
    {
      "cell_type": "code",
      "metadata": {
        "colab": {
          "base_uri": "https://localhost:8080/"
        },
        "id": "8s89bE4SP-jm",
        "outputId": "8537e404-454c-4771-f6a4-9f3366fc62be"
      },
      "source": [
        "# During 1970 - 1980 the average percentage of height has increased:\n",
        "avg8 = (180 - 178.3)/178.3 * 100\n",
        "print(\"1970-1980:\" \" %5.3f\" % avg8 + \"%\")"
      ],
      "execution_count": 9,
      "outputs": [
        {
          "output_type": "stream",
          "text": [
            "1970-1980: 0.953%\n"
          ],
          "name": "stdout"
        }
      ]
    },
    {
      "cell_type": "code",
      "metadata": {
        "id": "wTjTtdZ-Q5n8"
      },
      "source": [
        "# During which 10 years has men's height increased the fastest\n",
        "# Let determine the maximum of the percent\n",
        "list_percent = [avg1, avg2, avg3, avg4, avg5, avg6, avg7, avg8]"
      ],
      "execution_count": 10,
      "outputs": []
    },
    {
      "cell_type": "code",
      "metadata": {
        "id": "wsv_3lXzjKm1"
      },
      "source": [
        "def max_percent(list_percent):\n",
        "  for x in list_percent:\n",
        "    if x > 1.557:\n",
        "      maximum = x\n",
        "  return maximum"
      ],
      "execution_count": 11,
      "outputs": []
    },
    {
      "cell_type": "code",
      "metadata": {
        "colab": {
          "base_uri": "https://localhost:8080/"
        },
        "id": "Hn20pKnakye6",
        "outputId": "ea8342cc-ae54-4f65-a410-e135719d0e71"
      },
      "source": [
        "max_percent(list_percent)"
      ],
      "execution_count": 12,
      "outputs": [
        {
          "output_type": "execute_result",
          "data": {
            "text/plain": [
              "1.5570934256055295"
            ]
          },
          "metadata": {
            "tags": []
          },
          "execution_count": 12
        }
      ]
    },
    {
      "cell_type": "markdown",
      "metadata": {
        "id": "f69fYtSQS3ZM"
      },
      "source": [
        "During 1930 to 1940 men's  height has increase faster."
      ]
    }
  ]
}